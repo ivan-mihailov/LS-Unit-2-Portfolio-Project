{
  "nbformat": 4,
  "nbformat_minor": 0,
  "metadata": {
    "colab": {
      "name": "Final Drought Prediction Portfolio Project.ipynb",
      "provenance": [],
      "collapsed_sections": [],
      "toc_visible": true,
      "include_colab_link": true
    },
    "kernelspec": {
      "display_name": "Python 3",
      "language": "python",
      "name": "python3"
    },
    "language_info": {
      "codemirror_mode": {
        "name": "ipython",
        "version": 3
      },
      "file_extension": ".py",
      "mimetype": "text/x-python",
      "name": "python",
      "nbconvert_exporter": "python",
      "pygments_lexer": "ipython3",
      "version": "3.9.2"
    }
  },
  "cells": [
    {
      "cell_type": "markdown",
      "metadata": {
        "id": "view-in-github",
        "colab_type": "text"
      },
      "source": [
        "<a href=\"https://colab.research.google.com/github/ivan-mihailov/LS-Unit-2-Portfolio-Project/blob/main/Final_Drought_Prediction_Portfolio_Project.ipynb\" target=\"_parent\"><img src=\"https://colab.research.google.com/assets/colab-badge.svg\" alt=\"Open In Colab\"/></a>"
      ]
    },
    {
      "cell_type": "markdown",
      "metadata": {
        "id": "nawu7d7eK-IG"
      },
      "source": [
        "# Data Ingestion and Initial EDA"
      ]
    },
    {
      "cell_type": "code",
      "metadata": {
        "colab": {
          "resources": {
            "http://localhost:8080/nbextensions/google.colab/files.js": {
              "data": "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",
              "ok": true,
              "headers": [
                [
                  "content-type",
                  "application/javascript"
                ]
              ],
              "status": 200,
              "status_text": ""
            }
          },
          "base_uri": "https://localhost:8080/",
          "height": 89
        },
        "id": "HItbMJz-4ogA",
        "outputId": "4a63e4f1-3afe-412e-f1e1-81e6bfcd2a3a"
      },
      "source": [
        "from google.colab import files\n",
        "\n",
        "uploaded = files.upload()\n",
        "\n",
        "for fn in uploaded.keys():\n",
        "  print('User uploaded file \"{name}\" with length {length} bytes'.format(\n",
        "      name=fn, length=len(uploaded[fn])))\n",
        "  \n",
        "# Then move kaggle.json into the folder where the API expects to find it.\n",
        "!mkdir -p ~/.kaggle/ && mv kaggle.json ~/.kaggle/ && chmod 600 ~/.kaggle/kaggle.json"
      ],
      "execution_count": 2,
      "outputs": [
        {
          "output_type": "display_data",
          "data": {
            "text/html": [
              "\n",
              "     <input type=\"file\" id=\"files-90ca9fc4-8227-4e1c-9ddd-6970d375969d\" name=\"files[]\" multiple disabled\n",
              "        style=\"border:none\" />\n",
              "     <output id=\"result-90ca9fc4-8227-4e1c-9ddd-6970d375969d\">\n",
              "      Upload widget is only available when the cell has been executed in the\n",
              "      current browser session. Please rerun this cell to enable.\n",
              "      </output>\n",
              "      <script src=\"/nbextensions/google.colab/files.js\"></script> "
            ],
            "text/plain": [
              "<IPython.core.display.HTML object>"
            ]
          },
          "metadata": {
            "tags": []
          }
        },
        {
          "output_type": "stream",
          "text": [
            "Saving kaggle.json to kaggle.json\n",
            "User uploaded file \"kaggle.json\" with length 69 bytes\n"
          ],
          "name": "stdout"
        }
      ]
    },
    {
      "cell_type": "code",
      "metadata": {
        "colab": {
          "base_uri": "https://localhost:8080/"
        },
        "id": "_KYMJRja4aO4",
        "outputId": "b47a9817-380a-41ea-f157-9f7bcf297a32"
      },
      "source": [
        "!kaggle datasets download -d cdminix/us-drought-meteorological-data"
      ],
      "execution_count": 3,
      "outputs": [
        {
          "output_type": "stream",
          "text": [
            "Downloading us-drought-meteorological-data.zip to /content\n",
            "100% 897M/901M [00:17<00:00, 64.3MB/s]\n",
            "100% 901M/901M [00:17<00:00, 53.4MB/s]\n"
          ],
          "name": "stdout"
        }
      ]
    },
    {
      "cell_type": "code",
      "metadata": {
        "colab": {
          "base_uri": "https://localhost:8080/"
        },
        "id": "Xct2Hrgd43UW",
        "outputId": "71ef95fc-0bd0-43fd-c18f-60e49dafb513"
      },
      "source": [
        "!unzip us-drought-meteorological-data.zip"
      ],
      "execution_count": 4,
      "outputs": [
        {
          "output_type": "stream",
          "text": [
            "Archive:  us-drought-meteorological-data.zip\n",
            "  inflating: soil_data.csv           \n",
            "  inflating: test_timeseries/test_timeseries.csv  \n",
            "  inflating: train_timeseries/train_timeseries.csv  \n",
            "  inflating: validation_timeseries/validation_timeseries.csv  \n"
          ],
          "name": "stdout"
        }
      ]
    },
    {
      "cell_type": "code",
      "metadata": {
        "id": "pr7tKQRiLZ1x"
      },
      "source": [
        "import pandas as pd\n",
        "import numpy as np\n",
        "import seaborn as sns\n",
        "import matplotlib.pyplot as plt\n",
        "import xgboost as xgb"
      ],
      "execution_count": 6,
      "outputs": []
    },
    {
      "cell_type": "code",
      "metadata": {
        "colab": {
          "base_uri": "https://localhost:8080/",
          "height": 204
        },
        "id": "O-tXCTCeTm6T",
        "outputId": "a7117058-2b2d-4c87-95f1-f994ef9df197"
      },
      "source": [
        "# Ingest meteorological data from training dataset as dataframe\n",
        "train = pd.read_csv('/content/train_timeseries/train_timeseries.csv')\n",
        "train.head()"
      ],
      "execution_count": 7,
      "outputs": [
        {
          "output_type": "execute_result",
          "data": {
            "text/html": [
              "<div>\n",
              "<style scoped>\n",
              "    .dataframe tbody tr th:only-of-type {\n",
              "        vertical-align: middle;\n",
              "    }\n",
              "\n",
              "    .dataframe tbody tr th {\n",
              "        vertical-align: top;\n",
              "    }\n",
              "\n",
              "    .dataframe thead th {\n",
              "        text-align: right;\n",
              "    }\n",
              "</style>\n",
              "<table border=\"1\" class=\"dataframe\">\n",
              "  <thead>\n",
              "    <tr style=\"text-align: right;\">\n",
              "      <th></th>\n",
              "      <th>fips</th>\n",
              "      <th>date</th>\n",
              "      <th>PRECTOT</th>\n",
              "      <th>PS</th>\n",
              "      <th>QV2M</th>\n",
              "      <th>T2M</th>\n",
              "      <th>T2MDEW</th>\n",
              "      <th>T2MWET</th>\n",
              "      <th>T2M_MAX</th>\n",
              "      <th>T2M_MIN</th>\n",
              "      <th>T2M_RANGE</th>\n",
              "      <th>TS</th>\n",
              "      <th>WS10M</th>\n",
              "      <th>WS10M_MAX</th>\n",
              "      <th>WS10M_MIN</th>\n",
              "      <th>WS10M_RANGE</th>\n",
              "      <th>WS50M</th>\n",
              "      <th>WS50M_MAX</th>\n",
              "      <th>WS50M_MIN</th>\n",
              "      <th>WS50M_RANGE</th>\n",
              "      <th>score</th>\n",
              "    </tr>\n",
              "  </thead>\n",
              "  <tbody>\n",
              "    <tr>\n",
              "      <th>0</th>\n",
              "      <td>1001</td>\n",
              "      <td>2000-01-01</td>\n",
              "      <td>0.22</td>\n",
              "      <td>100.51</td>\n",
              "      <td>9.65</td>\n",
              "      <td>14.74</td>\n",
              "      <td>13.51</td>\n",
              "      <td>13.51</td>\n",
              "      <td>20.96</td>\n",
              "      <td>11.46</td>\n",
              "      <td>9.50</td>\n",
              "      <td>14.65</td>\n",
              "      <td>2.20</td>\n",
              "      <td>2.94</td>\n",
              "      <td>1.49</td>\n",
              "      <td>1.46</td>\n",
              "      <td>4.85</td>\n",
              "      <td>6.04</td>\n",
              "      <td>3.23</td>\n",
              "      <td>2.81</td>\n",
              "      <td>NaN</td>\n",
              "    </tr>\n",
              "    <tr>\n",
              "      <th>1</th>\n",
              "      <td>1001</td>\n",
              "      <td>2000-01-02</td>\n",
              "      <td>0.20</td>\n",
              "      <td>100.55</td>\n",
              "      <td>10.42</td>\n",
              "      <td>16.69</td>\n",
              "      <td>14.71</td>\n",
              "      <td>14.71</td>\n",
              "      <td>22.80</td>\n",
              "      <td>12.61</td>\n",
              "      <td>10.18</td>\n",
              "      <td>16.60</td>\n",
              "      <td>2.52</td>\n",
              "      <td>3.43</td>\n",
              "      <td>1.83</td>\n",
              "      <td>1.60</td>\n",
              "      <td>5.33</td>\n",
              "      <td>6.13</td>\n",
              "      <td>3.72</td>\n",
              "      <td>2.41</td>\n",
              "      <td>NaN</td>\n",
              "    </tr>\n",
              "    <tr>\n",
              "      <th>2</th>\n",
              "      <td>1001</td>\n",
              "      <td>2000-01-03</td>\n",
              "      <td>3.65</td>\n",
              "      <td>100.15</td>\n",
              "      <td>11.76</td>\n",
              "      <td>18.49</td>\n",
              "      <td>16.52</td>\n",
              "      <td>16.52</td>\n",
              "      <td>22.73</td>\n",
              "      <td>15.32</td>\n",
              "      <td>7.41</td>\n",
              "      <td>18.41</td>\n",
              "      <td>4.03</td>\n",
              "      <td>5.33</td>\n",
              "      <td>2.66</td>\n",
              "      <td>2.67</td>\n",
              "      <td>7.53</td>\n",
              "      <td>9.52</td>\n",
              "      <td>5.87</td>\n",
              "      <td>3.66</td>\n",
              "      <td>NaN</td>\n",
              "    </tr>\n",
              "    <tr>\n",
              "      <th>3</th>\n",
              "      <td>1001</td>\n",
              "      <td>2000-01-04</td>\n",
              "      <td>15.95</td>\n",
              "      <td>100.29</td>\n",
              "      <td>6.42</td>\n",
              "      <td>11.40</td>\n",
              "      <td>6.09</td>\n",
              "      <td>6.10</td>\n",
              "      <td>18.09</td>\n",
              "      <td>2.16</td>\n",
              "      <td>15.92</td>\n",
              "      <td>11.31</td>\n",
              "      <td>3.84</td>\n",
              "      <td>5.67</td>\n",
              "      <td>2.08</td>\n",
              "      <td>3.59</td>\n",
              "      <td>6.73</td>\n",
              "      <td>9.31</td>\n",
              "      <td>3.74</td>\n",
              "      <td>5.58</td>\n",
              "      <td>1.0</td>\n",
              "    </tr>\n",
              "    <tr>\n",
              "      <th>4</th>\n",
              "      <td>1001</td>\n",
              "      <td>2000-01-05</td>\n",
              "      <td>0.00</td>\n",
              "      <td>101.15</td>\n",
              "      <td>2.95</td>\n",
              "      <td>3.86</td>\n",
              "      <td>-3.29</td>\n",
              "      <td>-3.20</td>\n",
              "      <td>10.82</td>\n",
              "      <td>-2.66</td>\n",
              "      <td>13.48</td>\n",
              "      <td>2.65</td>\n",
              "      <td>1.60</td>\n",
              "      <td>2.50</td>\n",
              "      <td>0.52</td>\n",
              "      <td>1.98</td>\n",
              "      <td>2.94</td>\n",
              "      <td>4.85</td>\n",
              "      <td>0.65</td>\n",
              "      <td>4.19</td>\n",
              "      <td>NaN</td>\n",
              "    </tr>\n",
              "  </tbody>\n",
              "</table>\n",
              "</div>"
            ],
            "text/plain": [
              "   fips        date  PRECTOT      PS  ...  WS50M_MAX  WS50M_MIN  WS50M_RANGE  score\n",
              "0  1001  2000-01-01     0.22  100.51  ...       6.04       3.23         2.81    NaN\n",
              "1  1001  2000-01-02     0.20  100.55  ...       6.13       3.72         2.41    NaN\n",
              "2  1001  2000-01-03     3.65  100.15  ...       9.52       5.87         3.66    NaN\n",
              "3  1001  2000-01-04    15.95  100.29  ...       9.31       3.74         5.58    1.0\n",
              "4  1001  2000-01-05     0.00  101.15  ...       4.85       0.65         4.19    NaN\n",
              "\n",
              "[5 rows x 21 columns]"
            ]
          },
          "metadata": {
            "tags": []
          },
          "execution_count": 7
        }
      ]
    },
    {
      "cell_type": "code",
      "metadata": {
        "colab": {
          "base_uri": "https://localhost:8080/"
        },
        "id": "Htw9773YU_3b",
        "outputId": "94d0b2c5-0238-4a17-b69c-61479ae2f25e"
      },
      "source": [
        "train.shape"
      ],
      "execution_count": 8,
      "outputs": [
        {
          "output_type": "execute_result",
          "data": {
            "text/plain": [
              "(19300680, 21)"
            ]
          },
          "metadata": {
            "tags": []
          },
          "execution_count": 8
        }
      ]
    },
    {
      "cell_type": "code",
      "metadata": {
        "colab": {
          "base_uri": "https://localhost:8080/"
        },
        "id": "X342hKiieicX",
        "outputId": "e25315e4-a21f-4e2e-d46c-16a4c9144f41"
      },
      "source": [
        "# Determine whether there are NaNs in the data and their significance (if any)\n",
        "train.isna().sum()"
      ],
      "execution_count": 9,
      "outputs": [
        {
          "output_type": "execute_result",
          "data": {
            "text/plain": [
              "fips                  0\n",
              "date                  0\n",
              "PRECTOT               0\n",
              "PS                    0\n",
              "QV2M                  0\n",
              "T2M                   0\n",
              "T2MDEW                0\n",
              "T2MWET                0\n",
              "T2M_MAX               0\n",
              "T2M_MIN               0\n",
              "T2M_RANGE             0\n",
              "TS                    0\n",
              "WS10M                 0\n",
              "WS10M_MAX             0\n",
              "WS10M_MIN             0\n",
              "WS10M_RANGE           0\n",
              "WS50M                 0\n",
              "WS50M_MAX             0\n",
              "WS50M_MIN             0\n",
              "WS50M_RANGE           0\n",
              "score          16543884\n",
              "dtype: int64"
            ]
          },
          "metadata": {
            "tags": []
          },
          "execution_count": 9
        }
      ]
    },
    {
      "cell_type": "code",
      "metadata": {
        "colab": {
          "base_uri": "https://localhost:8080/",
          "height": 317
        },
        "id": "IiiYOtVZfLmU",
        "outputId": "01e01605-b085-4596-e232-fea49e7bda2d"
      },
      "source": [
        "train.describe() # Explore the training dataset"
      ],
      "execution_count": 10,
      "outputs": [
        {
          "output_type": "execute_result",
          "data": {
            "text/html": [
              "<div>\n",
              "<style scoped>\n",
              "    .dataframe tbody tr th:only-of-type {\n",
              "        vertical-align: middle;\n",
              "    }\n",
              "\n",
              "    .dataframe tbody tr th {\n",
              "        vertical-align: top;\n",
              "    }\n",
              "\n",
              "    .dataframe thead th {\n",
              "        text-align: right;\n",
              "    }\n",
              "</style>\n",
              "<table border=\"1\" class=\"dataframe\">\n",
              "  <thead>\n",
              "    <tr style=\"text-align: right;\">\n",
              "      <th></th>\n",
              "      <th>fips</th>\n",
              "      <th>PRECTOT</th>\n",
              "      <th>PS</th>\n",
              "      <th>QV2M</th>\n",
              "      <th>T2M</th>\n",
              "      <th>T2MDEW</th>\n",
              "      <th>T2MWET</th>\n",
              "      <th>T2M_MAX</th>\n",
              "      <th>T2M_MIN</th>\n",
              "      <th>T2M_RANGE</th>\n",
              "      <th>TS</th>\n",
              "      <th>WS10M</th>\n",
              "      <th>WS10M_MAX</th>\n",
              "      <th>WS10M_MIN</th>\n",
              "      <th>WS10M_RANGE</th>\n",
              "      <th>WS50M</th>\n",
              "      <th>WS50M_MAX</th>\n",
              "      <th>WS50M_MIN</th>\n",
              "      <th>WS50M_RANGE</th>\n",
              "      <th>score</th>\n",
              "    </tr>\n",
              "  </thead>\n",
              "  <tbody>\n",
              "    <tr>\n",
              "      <th>count</th>\n",
              "      <td>1.930068e+07</td>\n",
              "      <td>1.930068e+07</td>\n",
              "      <td>1.930068e+07</td>\n",
              "      <td>1.930068e+07</td>\n",
              "      <td>1.930068e+07</td>\n",
              "      <td>1.930068e+07</td>\n",
              "      <td>1.930068e+07</td>\n",
              "      <td>1.930068e+07</td>\n",
              "      <td>1.930068e+07</td>\n",
              "      <td>1.930068e+07</td>\n",
              "      <td>1.930068e+07</td>\n",
              "      <td>1.930068e+07</td>\n",
              "      <td>1.930068e+07</td>\n",
              "      <td>1.930068e+07</td>\n",
              "      <td>1.930068e+07</td>\n",
              "      <td>1.930068e+07</td>\n",
              "      <td>1.930068e+07</td>\n",
              "      <td>1.930068e+07</td>\n",
              "      <td>1.930068e+07</td>\n",
              "      <td>2.756796e+06</td>\n",
              "    </tr>\n",
              "    <tr>\n",
              "      <th>mean</th>\n",
              "      <td>3.067038e+04</td>\n",
              "      <td>2.644145e+00</td>\n",
              "      <td>9.665578e+01</td>\n",
              "      <td>7.816178e+00</td>\n",
              "      <td>1.280146e+01</td>\n",
              "      <td>6.951072e+00</td>\n",
              "      <td>6.986916e+00</td>\n",
              "      <td>1.868141e+01</td>\n",
              "      <td>7.411665e+00</td>\n",
              "      <td>1.126974e+01</td>\n",
              "      <td>1.288900e+01</td>\n",
              "      <td>3.564013e+00</td>\n",
              "      <td>5.195993e+00</td>\n",
              "      <td>1.928879e+00</td>\n",
              "      <td>3.267113e+00</td>\n",
              "      <td>5.525151e+00</td>\n",
              "      <td>7.811798e+00</td>\n",
              "      <td>3.130077e+00</td>\n",
              "      <td>4.681721e+00</td>\n",
              "      <td>8.245298e-01</td>\n",
              "    </tr>\n",
              "    <tr>\n",
              "      <th>std</th>\n",
              "      <td>1.497911e+04</td>\n",
              "      <td>6.226305e+00</td>\n",
              "      <td>5.447994e+00</td>\n",
              "      <td>4.694305e+00</td>\n",
              "      <td>1.092674e+01</td>\n",
              "      <td>1.014551e+01</td>\n",
              "      <td>1.009116e+01</td>\n",
              "      <td>1.154487e+01</td>\n",
              "      <td>1.057680e+01</td>\n",
              "      <td>4.005165e+00</td>\n",
              "      <td>1.114961e+01</td>\n",
              "      <td>1.862297e+00</td>\n",
              "      <td>2.627969e+00</td>\n",
              "      <td>1.351713e+00</td>\n",
              "      <td>1.947028e+00</td>\n",
              "      <td>2.321549e+00</td>\n",
              "      <td>2.861210e+00</td>\n",
              "      <td>2.122751e+00</td>\n",
              "      <td>2.171263e+00</td>\n",
              "      <td>1.223727e+00</td>\n",
              "    </tr>\n",
              "    <tr>\n",
              "      <th>min</th>\n",
              "      <td>1.001000e+03</td>\n",
              "      <td>0.000000e+00</td>\n",
              "      <td>6.612000e+01</td>\n",
              "      <td>1.200000e-01</td>\n",
              "      <td>-3.734000e+01</td>\n",
              "      <td>-3.770000e+01</td>\n",
              "      <td>-3.746000e+01</td>\n",
              "      <td>-3.220000e+01</td>\n",
              "      <td>-4.596000e+01</td>\n",
              "      <td>3.000000e-02</td>\n",
              "      <td>-3.823000e+01</td>\n",
              "      <td>2.500000e-01</td>\n",
              "      <td>5.400000e-01</td>\n",
              "      <td>0.000000e+00</td>\n",
              "      <td>1.600000e-01</td>\n",
              "      <td>4.000000e-01</td>\n",
              "      <td>7.000000e-01</td>\n",
              "      <td>0.000000e+00</td>\n",
              "      <td>3.200000e-01</td>\n",
              "      <td>0.000000e+00</td>\n",
              "    </tr>\n",
              "    <tr>\n",
              "      <th>25%</th>\n",
              "      <td>1.904450e+04</td>\n",
              "      <td>0.000000e+00</td>\n",
              "      <td>9.584000e+01</td>\n",
              "      <td>3.780000e+00</td>\n",
              "      <td>4.450000e+00</td>\n",
              "      <td>-9.600000e-01</td>\n",
              "      <td>-9.200000e-01</td>\n",
              "      <td>1.027000e+01</td>\n",
              "      <td>-7.000000e-01</td>\n",
              "      <td>8.420000e+00</td>\n",
              "      <td>4.340000e+00</td>\n",
              "      <td>2.140000e+00</td>\n",
              "      <td>3.110000e+00</td>\n",
              "      <td>9.600000e-01</td>\n",
              "      <td>1.810000e+00</td>\n",
              "      <td>3.790000e+00</td>\n",
              "      <td>5.680000e+00</td>\n",
              "      <td>1.450000e+00</td>\n",
              "      <td>3.130000e+00</td>\n",
              "      <td>0.000000e+00</td>\n",
              "    </tr>\n",
              "    <tr>\n",
              "      <th>50%</th>\n",
              "      <td>2.921200e+04</td>\n",
              "      <td>1.800000e-01</td>\n",
              "      <td>9.830000e+01</td>\n",
              "      <td>6.840000e+00</td>\n",
              "      <td>1.402000e+01</td>\n",
              "      <td>7.570000e+00</td>\n",
              "      <td>7.580000e+00</td>\n",
              "      <td>2.040000e+01</td>\n",
              "      <td>8.030000e+00</td>\n",
              "      <td>1.124000e+01</td>\n",
              "      <td>1.404000e+01</td>\n",
              "      <td>3.140000e+00</td>\n",
              "      <td>4.670000e+00</td>\n",
              "      <td>1.660000e+00</td>\n",
              "      <td>2.800000e+00</td>\n",
              "      <td>5.120000e+00</td>\n",
              "      <td>7.310000e+00</td>\n",
              "      <td>2.770000e+00</td>\n",
              "      <td>4.250000e+00</td>\n",
              "      <td>0.000000e+00</td>\n",
              "    </tr>\n",
              "    <tr>\n",
              "      <th>75%</th>\n",
              "      <td>4.600750e+04</td>\n",
              "      <td>2.160000e+00</td>\n",
              "      <td>9.996000e+01</td>\n",
              "      <td>1.135000e+01</td>\n",
              "      <td>2.188000e+01</td>\n",
              "      <td>1.552000e+01</td>\n",
              "      <td>1.552000e+01</td>\n",
              "      <td>2.787000e+01</td>\n",
              "      <td>1.614000e+01</td>\n",
              "      <td>1.408000e+01</td>\n",
              "      <td>2.207000e+01</td>\n",
              "      <td>4.600000e+00</td>\n",
              "      <td>6.750000e+00</td>\n",
              "      <td>2.580000e+00</td>\n",
              "      <td>4.250000e+00</td>\n",
              "      <td>6.880000e+00</td>\n",
              "      <td>9.460000e+00</td>\n",
              "      <td>4.410000e+00</td>\n",
              "      <td>5.770000e+00</td>\n",
              "      <td>1.189600e+00</td>\n",
              "    </tr>\n",
              "    <tr>\n",
              "      <th>max</th>\n",
              "      <td>5.604300e+04</td>\n",
              "      <td>2.345900e+02</td>\n",
              "      <td>1.043200e+02</td>\n",
              "      <td>2.292000e+01</td>\n",
              "      <td>4.139000e+01</td>\n",
              "      <td>2.755000e+01</td>\n",
              "      <td>2.755000e+01</td>\n",
              "      <td>4.991000e+01</td>\n",
              "      <td>3.380000e+01</td>\n",
              "      <td>3.461000e+01</td>\n",
              "      <td>4.385000e+01</td>\n",
              "      <td>2.369000e+01</td>\n",
              "      <td>3.628000e+01</td>\n",
              "      <td>1.720000e+01</td>\n",
              "      <td>2.825000e+01</td>\n",
              "      <td>2.835000e+01</td>\n",
              "      <td>4.273000e+01</td>\n",
              "      <td>2.087000e+01</td>\n",
              "      <td>3.243000e+01</td>\n",
              "      <td>5.000000e+00</td>\n",
              "    </tr>\n",
              "  </tbody>\n",
              "</table>\n",
              "</div>"
            ],
            "text/plain": [
              "               fips       PRECTOT  ...   WS50M_RANGE         score\n",
              "count  1.930068e+07  1.930068e+07  ...  1.930068e+07  2.756796e+06\n",
              "mean   3.067038e+04  2.644145e+00  ...  4.681721e+00  8.245298e-01\n",
              "std    1.497911e+04  6.226305e+00  ...  2.171263e+00  1.223727e+00\n",
              "min    1.001000e+03  0.000000e+00  ...  3.200000e-01  0.000000e+00\n",
              "25%    1.904450e+04  0.000000e+00  ...  3.130000e+00  0.000000e+00\n",
              "50%    2.921200e+04  1.800000e-01  ...  4.250000e+00  0.000000e+00\n",
              "75%    4.600750e+04  2.160000e+00  ...  5.770000e+00  1.189600e+00\n",
              "max    5.604300e+04  2.345900e+02  ...  3.243000e+01  5.000000e+00\n",
              "\n",
              "[8 rows x 20 columns]"
            ]
          },
          "metadata": {
            "tags": []
          },
          "execution_count": 10
        }
      ]
    },
    {
      "cell_type": "code",
      "metadata": {
        "colab": {
          "base_uri": "https://localhost:8080/",
          "height": 204
        },
        "id": "Lhs1fYEZsCrG",
        "outputId": "85d887cc-0f5e-42d5-9e7f-c1daab1022ee"
      },
      "source": [
        "train.head()"
      ],
      "execution_count": 11,
      "outputs": [
        {
          "output_type": "execute_result",
          "data": {
            "text/html": [
              "<div>\n",
              "<style scoped>\n",
              "    .dataframe tbody tr th:only-of-type {\n",
              "        vertical-align: middle;\n",
              "    }\n",
              "\n",
              "    .dataframe tbody tr th {\n",
              "        vertical-align: top;\n",
              "    }\n",
              "\n",
              "    .dataframe thead th {\n",
              "        text-align: right;\n",
              "    }\n",
              "</style>\n",
              "<table border=\"1\" class=\"dataframe\">\n",
              "  <thead>\n",
              "    <tr style=\"text-align: right;\">\n",
              "      <th></th>\n",
              "      <th>fips</th>\n",
              "      <th>date</th>\n",
              "      <th>PRECTOT</th>\n",
              "      <th>PS</th>\n",
              "      <th>QV2M</th>\n",
              "      <th>T2M</th>\n",
              "      <th>T2MDEW</th>\n",
              "      <th>T2MWET</th>\n",
              "      <th>T2M_MAX</th>\n",
              "      <th>T2M_MIN</th>\n",
              "      <th>T2M_RANGE</th>\n",
              "      <th>TS</th>\n",
              "      <th>WS10M</th>\n",
              "      <th>WS10M_MAX</th>\n",
              "      <th>WS10M_MIN</th>\n",
              "      <th>WS10M_RANGE</th>\n",
              "      <th>WS50M</th>\n",
              "      <th>WS50M_MAX</th>\n",
              "      <th>WS50M_MIN</th>\n",
              "      <th>WS50M_RANGE</th>\n",
              "      <th>score</th>\n",
              "    </tr>\n",
              "  </thead>\n",
              "  <tbody>\n",
              "    <tr>\n",
              "      <th>0</th>\n",
              "      <td>1001</td>\n",
              "      <td>2000-01-01</td>\n",
              "      <td>0.22</td>\n",
              "      <td>100.51</td>\n",
              "      <td>9.65</td>\n",
              "      <td>14.74</td>\n",
              "      <td>13.51</td>\n",
              "      <td>13.51</td>\n",
              "      <td>20.96</td>\n",
              "      <td>11.46</td>\n",
              "      <td>9.50</td>\n",
              "      <td>14.65</td>\n",
              "      <td>2.20</td>\n",
              "      <td>2.94</td>\n",
              "      <td>1.49</td>\n",
              "      <td>1.46</td>\n",
              "      <td>4.85</td>\n",
              "      <td>6.04</td>\n",
              "      <td>3.23</td>\n",
              "      <td>2.81</td>\n",
              "      <td>NaN</td>\n",
              "    </tr>\n",
              "    <tr>\n",
              "      <th>1</th>\n",
              "      <td>1001</td>\n",
              "      <td>2000-01-02</td>\n",
              "      <td>0.20</td>\n",
              "      <td>100.55</td>\n",
              "      <td>10.42</td>\n",
              "      <td>16.69</td>\n",
              "      <td>14.71</td>\n",
              "      <td>14.71</td>\n",
              "      <td>22.80</td>\n",
              "      <td>12.61</td>\n",
              "      <td>10.18</td>\n",
              "      <td>16.60</td>\n",
              "      <td>2.52</td>\n",
              "      <td>3.43</td>\n",
              "      <td>1.83</td>\n",
              "      <td>1.60</td>\n",
              "      <td>5.33</td>\n",
              "      <td>6.13</td>\n",
              "      <td>3.72</td>\n",
              "      <td>2.41</td>\n",
              "      <td>NaN</td>\n",
              "    </tr>\n",
              "    <tr>\n",
              "      <th>2</th>\n",
              "      <td>1001</td>\n",
              "      <td>2000-01-03</td>\n",
              "      <td>3.65</td>\n",
              "      <td>100.15</td>\n",
              "      <td>11.76</td>\n",
              "      <td>18.49</td>\n",
              "      <td>16.52</td>\n",
              "      <td>16.52</td>\n",
              "      <td>22.73</td>\n",
              "      <td>15.32</td>\n",
              "      <td>7.41</td>\n",
              "      <td>18.41</td>\n",
              "      <td>4.03</td>\n",
              "      <td>5.33</td>\n",
              "      <td>2.66</td>\n",
              "      <td>2.67</td>\n",
              "      <td>7.53</td>\n",
              "      <td>9.52</td>\n",
              "      <td>5.87</td>\n",
              "      <td>3.66</td>\n",
              "      <td>NaN</td>\n",
              "    </tr>\n",
              "    <tr>\n",
              "      <th>3</th>\n",
              "      <td>1001</td>\n",
              "      <td>2000-01-04</td>\n",
              "      <td>15.95</td>\n",
              "      <td>100.29</td>\n",
              "      <td>6.42</td>\n",
              "      <td>11.40</td>\n",
              "      <td>6.09</td>\n",
              "      <td>6.10</td>\n",
              "      <td>18.09</td>\n",
              "      <td>2.16</td>\n",
              "      <td>15.92</td>\n",
              "      <td>11.31</td>\n",
              "      <td>3.84</td>\n",
              "      <td>5.67</td>\n",
              "      <td>2.08</td>\n",
              "      <td>3.59</td>\n",
              "      <td>6.73</td>\n",
              "      <td>9.31</td>\n",
              "      <td>3.74</td>\n",
              "      <td>5.58</td>\n",
              "      <td>1.0</td>\n",
              "    </tr>\n",
              "    <tr>\n",
              "      <th>4</th>\n",
              "      <td>1001</td>\n",
              "      <td>2000-01-05</td>\n",
              "      <td>0.00</td>\n",
              "      <td>101.15</td>\n",
              "      <td>2.95</td>\n",
              "      <td>3.86</td>\n",
              "      <td>-3.29</td>\n",
              "      <td>-3.20</td>\n",
              "      <td>10.82</td>\n",
              "      <td>-2.66</td>\n",
              "      <td>13.48</td>\n",
              "      <td>2.65</td>\n",
              "      <td>1.60</td>\n",
              "      <td>2.50</td>\n",
              "      <td>0.52</td>\n",
              "      <td>1.98</td>\n",
              "      <td>2.94</td>\n",
              "      <td>4.85</td>\n",
              "      <td>0.65</td>\n",
              "      <td>4.19</td>\n",
              "      <td>NaN</td>\n",
              "    </tr>\n",
              "  </tbody>\n",
              "</table>\n",
              "</div>"
            ],
            "text/plain": [
              "   fips        date  PRECTOT      PS  ...  WS50M_MAX  WS50M_MIN  WS50M_RANGE  score\n",
              "0  1001  2000-01-01     0.22  100.51  ...       6.04       3.23         2.81    NaN\n",
              "1  1001  2000-01-02     0.20  100.55  ...       6.13       3.72         2.41    NaN\n",
              "2  1001  2000-01-03     3.65  100.15  ...       9.52       5.87         3.66    NaN\n",
              "3  1001  2000-01-04    15.95  100.29  ...       9.31       3.74         5.58    1.0\n",
              "4  1001  2000-01-05     0.00  101.15  ...       4.85       0.65         4.19    NaN\n",
              "\n",
              "[5 rows x 21 columns]"
            ]
          },
          "metadata": {
            "tags": []
          },
          "execution_count": 11
        }
      ]
    },
    {
      "cell_type": "code",
      "metadata": {
        "colab": {
          "base_uri": "https://localhost:8080/",
          "height": 289
        },
        "id": "c4xRS9I0uhOA",
        "outputId": "ef8ffd2c-eb8e-4e6f-e061-03fa146ca347"
      },
      "source": [
        "train.tail()"
      ],
      "execution_count": 12,
      "outputs": [
        {
          "output_type": "execute_result",
          "data": {
            "text/html": [
              "<div>\n",
              "<style scoped>\n",
              "    .dataframe tbody tr th:only-of-type {\n",
              "        vertical-align: middle;\n",
              "    }\n",
              "\n",
              "    .dataframe tbody tr th {\n",
              "        vertical-align: top;\n",
              "    }\n",
              "\n",
              "    .dataframe thead th {\n",
              "        text-align: right;\n",
              "    }\n",
              "</style>\n",
              "<table border=\"1\" class=\"dataframe\">\n",
              "  <thead>\n",
              "    <tr style=\"text-align: right;\">\n",
              "      <th></th>\n",
              "      <th>fips</th>\n",
              "      <th>date</th>\n",
              "      <th>PRECTOT</th>\n",
              "      <th>PS</th>\n",
              "      <th>QV2M</th>\n",
              "      <th>T2M</th>\n",
              "      <th>T2MDEW</th>\n",
              "      <th>T2MWET</th>\n",
              "      <th>T2M_MAX</th>\n",
              "      <th>T2M_MIN</th>\n",
              "      <th>T2M_RANGE</th>\n",
              "      <th>TS</th>\n",
              "      <th>WS10M</th>\n",
              "      <th>WS10M_MAX</th>\n",
              "      <th>WS10M_MIN</th>\n",
              "      <th>WS10M_RANGE</th>\n",
              "      <th>WS50M</th>\n",
              "      <th>WS50M_MAX</th>\n",
              "      <th>WS50M_MIN</th>\n",
              "      <th>WS50M_RANGE</th>\n",
              "      <th>score</th>\n",
              "    </tr>\n",
              "  </thead>\n",
              "  <tbody>\n",
              "    <tr>\n",
              "      <th>19300675</th>\n",
              "      <td>56043</td>\n",
              "      <td>2016-12-27</td>\n",
              "      <td>0.16</td>\n",
              "      <td>82.88</td>\n",
              "      <td>1.63</td>\n",
              "      <td>-7.97</td>\n",
              "      <td>-13.49</td>\n",
              "      <td>-12.81</td>\n",
              "      <td>-1.39</td>\n",
              "      <td>-13.60</td>\n",
              "      <td>12.21</td>\n",
              "      <td>-9.41</td>\n",
              "      <td>5.90</td>\n",
              "      <td>7.63</td>\n",
              "      <td>3.61</td>\n",
              "      <td>4.02</td>\n",
              "      <td>8.58</td>\n",
              "      <td>10.39</td>\n",
              "      <td>5.92</td>\n",
              "      <td>4.47</td>\n",
              "      <td>0.0</td>\n",
              "    </tr>\n",
              "    <tr>\n",
              "      <th>19300676</th>\n",
              "      <td>56043</td>\n",
              "      <td>2016-12-28</td>\n",
              "      <td>0.02</td>\n",
              "      <td>83.33</td>\n",
              "      <td>1.41</td>\n",
              "      <td>-8.71</td>\n",
              "      <td>-14.10</td>\n",
              "      <td>-13.84</td>\n",
              "      <td>-2.49</td>\n",
              "      <td>-13.56</td>\n",
              "      <td>11.07</td>\n",
              "      <td>-10.55</td>\n",
              "      <td>6.50</td>\n",
              "      <td>11.43</td>\n",
              "      <td>4.11</td>\n",
              "      <td>7.32</td>\n",
              "      <td>9.92</td>\n",
              "      <td>14.49</td>\n",
              "      <td>7.26</td>\n",
              "      <td>7.22</td>\n",
              "      <td>NaN</td>\n",
              "    </tr>\n",
              "    <tr>\n",
              "      <th>19300677</th>\n",
              "      <td>56043</td>\n",
              "      <td>2016-12-29</td>\n",
              "      <td>0.00</td>\n",
              "      <td>83.75</td>\n",
              "      <td>1.59</td>\n",
              "      <td>-7.96</td>\n",
              "      <td>-13.30</td>\n",
              "      <td>-13.03</td>\n",
              "      <td>0.42</td>\n",
              "      <td>-14.51</td>\n",
              "      <td>14.93</td>\n",
              "      <td>-10.29</td>\n",
              "      <td>4.29</td>\n",
              "      <td>6.24</td>\n",
              "      <td>2.03</td>\n",
              "      <td>4.22</td>\n",
              "      <td>6.56</td>\n",
              "      <td>10.07</td>\n",
              "      <td>3.20</td>\n",
              "      <td>6.87</td>\n",
              "      <td>NaN</td>\n",
              "    </tr>\n",
              "    <tr>\n",
              "      <th>19300678</th>\n",
              "      <td>56043</td>\n",
              "      <td>2016-12-30</td>\n",
              "      <td>1.22</td>\n",
              "      <td>82.49</td>\n",
              "      <td>2.63</td>\n",
              "      <td>-2.94</td>\n",
              "      <td>-7.40</td>\n",
              "      <td>-7.33</td>\n",
              "      <td>3.76</td>\n",
              "      <td>-6.86</td>\n",
              "      <td>10.62</td>\n",
              "      <td>-4.14</td>\n",
              "      <td>4.98</td>\n",
              "      <td>7.34</td>\n",
              "      <td>1.99</td>\n",
              "      <td>5.35</td>\n",
              "      <td>7.28</td>\n",
              "      <td>10.12</td>\n",
              "      <td>3.24</td>\n",
              "      <td>6.89</td>\n",
              "      <td>NaN</td>\n",
              "    </tr>\n",
              "    <tr>\n",
              "      <th>19300679</th>\n",
              "      <td>56043</td>\n",
              "      <td>2016-12-31</td>\n",
              "      <td>0.44</td>\n",
              "      <td>82.19</td>\n",
              "      <td>1.75</td>\n",
              "      <td>-7.56</td>\n",
              "      <td>-11.98</td>\n",
              "      <td>-11.82</td>\n",
              "      <td>-0.95</td>\n",
              "      <td>-11.61</td>\n",
              "      <td>10.66</td>\n",
              "      <td>-10.17</td>\n",
              "      <td>2.31</td>\n",
              "      <td>3.47</td>\n",
              "      <td>0.41</td>\n",
              "      <td>3.06</td>\n",
              "      <td>3.37</td>\n",
              "      <td>5.26</td>\n",
              "      <td>0.66</td>\n",
              "      <td>4.60</td>\n",
              "      <td>NaN</td>\n",
              "    </tr>\n",
              "  </tbody>\n",
              "</table>\n",
              "</div>"
            ],
            "text/plain": [
              "           fips        date  PRECTOT  ...  WS50M_MIN  WS50M_RANGE  score\n",
              "19300675  56043  2016-12-27     0.16  ...       5.92         4.47    0.0\n",
              "19300676  56043  2016-12-28     0.02  ...       7.26         7.22    NaN\n",
              "19300677  56043  2016-12-29     0.00  ...       3.20         6.87    NaN\n",
              "19300678  56043  2016-12-30     1.22  ...       3.24         6.89    NaN\n",
              "19300679  56043  2016-12-31     0.44  ...       0.66         4.60    NaN\n",
              "\n",
              "[5 rows x 21 columns]"
            ]
          },
          "metadata": {
            "tags": []
          },
          "execution_count": 12
        }
      ]
    },
    {
      "cell_type": "code",
      "metadata": {
        "colab": {
          "base_uri": "https://localhost:8080/"
        },
        "id": "c7YYB2bnfrIp",
        "outputId": "55b58e5d-ac75-426c-9e95-c618e8b03b2c"
      },
      "source": [
        "train['score'].value_counts() # Determine the type of values in the 'score' column"
      ],
      "execution_count": 13,
      "outputs": [
        {
          "output_type": "execute_result",
          "data": {
            "text/plain": [
              "0.0000    1480827\n",
              "1.0000     219135\n",
              "2.0000     123789\n",
              "3.0000      82801\n",
              "4.0000      45841\n",
              "           ...   \n",
              "1.0601          1\n",
              "0.8077          1\n",
              "1.0362          1\n",
              "2.7554          1\n",
              "4.6692          1\n",
              "Name: score, Length: 55294, dtype: int64"
            ]
          },
          "metadata": {
            "tags": []
          },
          "execution_count": 13
        }
      ]
    },
    {
      "cell_type": "markdown",
      "metadata": {
        "id": "fBlt0kP_vdVm"
      },
      "source": [
        "# **This Dataset is too large as presented**\n",
        "\n",
        "\n",
        "*   It frequently crashes Google Colab/personal laptop when more computer-intensive tasks are performed;\n",
        "*   The data itself is messy (daily meteorogical observations but only weekly measurements of drought)\n",
        "\n",
        "**Conclusion:** Subset and only use one state (Pennsylvania) for Portfolio Project\n",
        "\n"
      ]
    },
    {
      "cell_type": "code",
      "metadata": {
        "id": "35Y3hAT5u56o"
      },
      "source": [
        "# Define wrangling function for training, validation, and test datasets\n",
        "def wrangle(df):\n",
        "    # Isolate PA counties in the training dataset\n",
        "    condition = ((df['fips'] == 42001) | (df['fips'] == 42003) | \n",
        "             (df['fips'] == 42005) | (df['fips'] == 42007) | \n",
        "             (df['fips'] == 42009) | (df['fips'] == 42011) | \n",
        "             (df['fips'] == 42013) | (df['fips'] == 42015) | \n",
        "             (df['fips'] == 42017) | (df['fips'] == 42019) | \n",
        "             (df['fips'] == 42021) | (df['fips'] == 42023) | \n",
        "             (df['fips'] == 42025) | (df['fips'] == 42027) |\n",
        "             (df['fips'] == 42029)\t| (df['fips'] == 42031) |\n",
        "             (df['fips'] == 42033)\t| (df['fips'] == 42035) |\t\n",
        "             (df['fips'] == 42037)\t| (df['fips'] == 42039) |\n",
        "             (df['fips'] == 42041)\t| (df['fips'] == 42043) |\n",
        "             (df['fips'] == 42045)\t| (df['fips'] == 42047) |\n",
        "             (df['fips'] == 42049) | (df['fips'] == 42051) |\n",
        "             (df['fips'] == 42053) | (df['fips'] == 42055) |\n",
        "             (df['fips'] == 42057) | (df['fips'] == 42059) |\n",
        "             (df['fips'] == 42061) |\t(df['fips'] == 42063) |\t\n",
        "             (df['fips'] == 42065) |\t(df['fips'] == 42067) |\n",
        "             (df['fips'] == 42069)\t| (df['fips'] == 42071) |\t\n",
        "             (df['fips'] == 42073) |\t(df['fips'] == 42075) |\n",
        "             (df['fips'] == 42077) |\t(df['fips'] == 42079) |\n",
        "             (df['fips'] == 42081) |\t(df['fips'] == 42083) |\n",
        "             (df['fips'] == 42085) |\t(df['fips'] == 42087) | \n",
        "             (df['fips'] == 42089) | (df['fips'] == 42091) |\n",
        "             (df['fips'] == 42093)\t| (df['fips'] == 42095) |\n",
        "             (df['fips'] == 42097)\t| (df['fips'] == 42099) |\t\n",
        "             (df['fips'] == 42101)\t| (df['fips'] == 42103) |\n",
        "             (df['fips'] == 42105)\t| (df['fips'] == 42107) |\n",
        "             (df['fips'] == 42109)\t| (df['fips'] == 42111) |\n",
        "             (df['fips'] == 42113)\t| (df['fips'] == 42115) | \n",
        "             (df['fips'] == 42117) | (df['fips'] == 42119) |\n",
        "             (df['fips'] == 42121) | (df['fips'] == 42123) |\n",
        "             (df['fips'] == 42125)\t| (df['fips'] == 42127) |\n",
        "             (df['fips'] == 42129)\t| (df['fips'] == 42131) |\n",
        "             (df['fips'] == 42133))\n",
        "    \n",
        "    df = df[condition]\n",
        "    \n",
        "    # Reset the Index of the Dataframe\n",
        "    \n",
        "    df = df.reset_index(drop = True)\n",
        "  \n",
        "    # Feature Engineering for Weekly Precipitation by PA County\n",
        "    df['weekly_prec'] = df.groupby('fips')['PRECTOT'].apply(lambda x: x.rolling(7, min_periods = 1).sum().shift())\n",
        "        \n",
        "    # Feature Engineering for Bi-Weekly Precipitation by PA County\n",
        "    df['biweekly_prec'] = df.groupby('fips')['PRECTOT'].apply(lambda x: x.rolling(14, min_periods = 1).sum().shift())\n",
        "\n",
        "    # Feature Engineering for Tri-Weekly Precipitation by PA County\n",
        "    df['triweekly_prec'] = df.groupby('fips')['PRECTOT'].apply(lambda x: x.rolling(21, min_periods = 1).sum().shift())\n",
        "\n",
        "    # Feature Engineering for Monthly Precipitation by PA County\n",
        "    df['monthly_prec'] = df.groupby('fips')['PRECTOT'].apply(lambda x: x.rolling(30, min_periods = 1).sum().shift())\n",
        "    \n",
        "    # Fill-in NaN values in Feature Engineered Columns (the first value in each county) with the next available value\n",
        "    for i in range(len(df)):\n",
        "        if np.isnan(df.loc[i]['weekly_prec']) == True:\n",
        "            df.loc[(i, 'weekly_prec')] = df.loc[(i + 1, 'weekly_prec')]\n",
        "    \n",
        "    for i in range(len(df)):    \n",
        "        if np.isnan(df.loc[i]['biweekly_prec']) == True:\n",
        "            df.loc[(i, 'biweekly_prec')] = df.loc[(i + 1, 'biweekly_prec')]\n",
        "    \n",
        "    for i in range(len(df)):\n",
        "        if np.isnan(df.loc[i]['triweekly_prec']) == True:\n",
        "            df.loc[(i, 'triweekly_prec')] = df.loc[(i + 1, 'triweekly_prec')]\n",
        "    \n",
        "    for i in range(len(df)):    \n",
        "        if np.isnan(df.loc[i]['monthly_prec']) == True:\n",
        "            df.loc[(i, 'monthly_prec')] = df.loc[(i + 1, 'monthly_prec')]\n",
        "           \n",
        "    return df"
      ],
      "execution_count": 14,
      "outputs": []
    },
    {
      "cell_type": "code",
      "metadata": {
        "id": "sdTOyJ4x4E1p"
      },
      "source": [
        "train_pa = wrangle(train)"
      ],
      "execution_count": 15,
      "outputs": []
    },
    {
      "cell_type": "code",
      "metadata": {
        "colab": {
          "base_uri": "https://localhost:8080/"
        },
        "id": "6z-47-5I4KFT",
        "outputId": "3c43218c-b468-49ac-c51f-9b8f0f2b7d57"
      },
      "source": [
        "train_pa.head()"
      ],
      "execution_count": null,
      "outputs": [
        {
          "output_type": "execute_result",
          "data": {
            "text/html": [
              "<div>\n",
              "<style scoped>\n",
              "    .dataframe tbody tr th:only-of-type {\n",
              "        vertical-align: middle;\n",
              "    }\n",
              "\n",
              "    .dataframe tbody tr th {\n",
              "        vertical-align: top;\n",
              "    }\n",
              "\n",
              "    .dataframe thead th {\n",
              "        text-align: right;\n",
              "    }\n",
              "</style>\n",
              "<table border=\"1\" class=\"dataframe\">\n",
              "  <thead>\n",
              "    <tr style=\"text-align: right;\">\n",
              "      <th></th>\n",
              "      <th>fips</th>\n",
              "      <th>date</th>\n",
              "      <th>PRECTOT</th>\n",
              "      <th>PS</th>\n",
              "      <th>QV2M</th>\n",
              "      <th>T2M</th>\n",
              "      <th>T2MDEW</th>\n",
              "      <th>T2MWET</th>\n",
              "      <th>T2M_MAX</th>\n",
              "      <th>T2M_MIN</th>\n",
              "      <th>...</th>\n",
              "      <th>WS10M_RANGE</th>\n",
              "      <th>WS50M</th>\n",
              "      <th>WS50M_MAX</th>\n",
              "      <th>WS50M_MIN</th>\n",
              "      <th>WS50M_RANGE</th>\n",
              "      <th>score</th>\n",
              "      <th>weekly_prec</th>\n",
              "      <th>biweekly_prec</th>\n",
              "      <th>triweekly_prec</th>\n",
              "      <th>monthly_prec</th>\n",
              "    </tr>\n",
              "  </thead>\n",
              "  <tbody>\n",
              "    <tr>\n",
              "      <th>0</th>\n",
              "      <td>42001</td>\n",
              "      <td>2000-01-01</td>\n",
              "      <td>0.00</td>\n",
              "      <td>99.76</td>\n",
              "      <td>4.06</td>\n",
              "      <td>1.22</td>\n",
              "      <td>0.73</td>\n",
              "      <td>0.73</td>\n",
              "      <td>7.14</td>\n",
              "      <td>-2.04</td>\n",
              "      <td>...</td>\n",
              "      <td>2.26</td>\n",
              "      <td>3.78</td>\n",
              "      <td>6.96</td>\n",
              "      <td>1.43</td>\n",
              "      <td>5.53</td>\n",
              "      <td>NaN</td>\n",
              "      <td>0.00</td>\n",
              "      <td>0.00</td>\n",
              "      <td>0.00</td>\n",
              "      <td>0.00</td>\n",
              "    </tr>\n",
              "    <tr>\n",
              "      <th>1</th>\n",
              "      <td>42001</td>\n",
              "      <td>2000-01-02</td>\n",
              "      <td>0.18</td>\n",
              "      <td>99.41</td>\n",
              "      <td>5.71</td>\n",
              "      <td>5.02</td>\n",
              "      <td>5.27</td>\n",
              "      <td>5.27</td>\n",
              "      <td>9.35</td>\n",
              "      <td>1.20</td>\n",
              "      <td>...</td>\n",
              "      <td>1.98</td>\n",
              "      <td>6.15</td>\n",
              "      <td>9.00</td>\n",
              "      <td>3.75</td>\n",
              "      <td>5.25</td>\n",
              "      <td>NaN</td>\n",
              "      <td>0.00</td>\n",
              "      <td>0.00</td>\n",
              "      <td>0.00</td>\n",
              "      <td>0.00</td>\n",
              "    </tr>\n",
              "    <tr>\n",
              "      <th>2</th>\n",
              "      <td>42001</td>\n",
              "      <td>2000-01-03</td>\n",
              "      <td>0.37</td>\n",
              "      <td>99.20</td>\n",
              "      <td>7.49</td>\n",
              "      <td>9.46</td>\n",
              "      <td>9.44</td>\n",
              "      <td>9.44</td>\n",
              "      <td>13.50</td>\n",
              "      <td>6.32</td>\n",
              "      <td>...</td>\n",
              "      <td>3.05</td>\n",
              "      <td>5.95</td>\n",
              "      <td>8.87</td>\n",
              "      <td>2.24</td>\n",
              "      <td>6.63</td>\n",
              "      <td>NaN</td>\n",
              "      <td>0.18</td>\n",
              "      <td>0.18</td>\n",
              "      <td>0.18</td>\n",
              "      <td>0.18</td>\n",
              "    </tr>\n",
              "    <tr>\n",
              "      <th>3</th>\n",
              "      <td>42001</td>\n",
              "      <td>2000-01-04</td>\n",
              "      <td>8.25</td>\n",
              "      <td>98.29</td>\n",
              "      <td>7.68</td>\n",
              "      <td>10.13</td>\n",
              "      <td>9.17</td>\n",
              "      <td>9.18</td>\n",
              "      <td>14.81</td>\n",
              "      <td>1.72</td>\n",
              "      <td>...</td>\n",
              "      <td>2.74</td>\n",
              "      <td>8.98</td>\n",
              "      <td>11.08</td>\n",
              "      <td>7.45</td>\n",
              "      <td>3.63</td>\n",
              "      <td>0.0</td>\n",
              "      <td>0.55</td>\n",
              "      <td>0.55</td>\n",
              "      <td>0.55</td>\n",
              "      <td>0.55</td>\n",
              "    </tr>\n",
              "    <tr>\n",
              "      <th>4</th>\n",
              "      <td>42001</td>\n",
              "      <td>2000-01-05</td>\n",
              "      <td>0.34</td>\n",
              "      <td>99.78</td>\n",
              "      <td>2.67</td>\n",
              "      <td>-0.32</td>\n",
              "      <td>-4.76</td>\n",
              "      <td>-4.69</td>\n",
              "      <td>3.43</td>\n",
              "      <td>-3.22</td>\n",
              "      <td>...</td>\n",
              "      <td>5.88</td>\n",
              "      <td>7.08</td>\n",
              "      <td>9.72</td>\n",
              "      <td>1.78</td>\n",
              "      <td>7.94</td>\n",
              "      <td>NaN</td>\n",
              "      <td>8.80</td>\n",
              "      <td>8.80</td>\n",
              "      <td>8.80</td>\n",
              "      <td>8.80</td>\n",
              "    </tr>\n",
              "  </tbody>\n",
              "</table>\n",
              "<p>5 rows × 25 columns</p>\n",
              "</div>"
            ],
            "text/plain": [
              "    fips        date  PRECTOT     PS  QV2M    T2M  T2MDEW  T2MWET  T2M_MAX  \\\n",
              "0  42001  2000-01-01     0.00  99.76  4.06   1.22    0.73    0.73     7.14   \n",
              "1  42001  2000-01-02     0.18  99.41  5.71   5.02    5.27    5.27     9.35   \n",
              "2  42001  2000-01-03     0.37  99.20  7.49   9.46    9.44    9.44    13.50   \n",
              "3  42001  2000-01-04     8.25  98.29  7.68  10.13    9.17    9.18    14.81   \n",
              "4  42001  2000-01-05     0.34  99.78  2.67  -0.32   -4.76   -4.69     3.43   \n",
              "\n",
              "   T2M_MIN  ...  WS10M_RANGE  WS50M  WS50M_MAX  WS50M_MIN  WS50M_RANGE  score  \\\n",
              "0    -2.04  ...         2.26   3.78       6.96       1.43         5.53    NaN   \n",
              "1     1.20  ...         1.98   6.15       9.00       3.75         5.25    NaN   \n",
              "2     6.32  ...         3.05   5.95       8.87       2.24         6.63    NaN   \n",
              "3     1.72  ...         2.74   8.98      11.08       7.45         3.63    0.0   \n",
              "4    -3.22  ...         5.88   7.08       9.72       1.78         7.94    NaN   \n",
              "\n",
              "   weekly_prec  biweekly_prec  triweekly_prec  monthly_prec  \n",
              "0         0.00           0.00            0.00          0.00  \n",
              "1         0.00           0.00            0.00          0.00  \n",
              "2         0.18           0.18            0.18          0.18  \n",
              "3         0.55           0.55            0.55          0.55  \n",
              "4         8.80           8.80            8.80          8.80  \n",
              "\n",
              "[5 rows x 25 columns]"
            ]
          },
          "metadata": {
            "tags": []
          },
          "execution_count": 11
        }
      ]
    },
    {
      "cell_type": "code",
      "metadata": {
        "colab": {
          "base_uri": "https://localhost:8080/",
          "height": 224
        },
        "id": "BORhgRqdgeaQ",
        "outputId": "de22e2e7-fb8d-4038-c5ef-9ab7fb47a9f5"
      },
      "source": [
        "# Ingest soil data as dataframe\n",
        "soil = pd.read_csv('/content/soil_data.csv')\n",
        "soil.head()"
      ],
      "execution_count": 16,
      "outputs": [
        {
          "output_type": "execute_result",
          "data": {
            "text/html": [
              "<div>\n",
              "<style scoped>\n",
              "    .dataframe tbody tr th:only-of-type {\n",
              "        vertical-align: middle;\n",
              "    }\n",
              "\n",
              "    .dataframe tbody tr th {\n",
              "        vertical-align: top;\n",
              "    }\n",
              "\n",
              "    .dataframe thead th {\n",
              "        text-align: right;\n",
              "    }\n",
              "</style>\n",
              "<table border=\"1\" class=\"dataframe\">\n",
              "  <thead>\n",
              "    <tr style=\"text-align: right;\">\n",
              "      <th></th>\n",
              "      <th>fips</th>\n",
              "      <th>lat</th>\n",
              "      <th>lon</th>\n",
              "      <th>elevation</th>\n",
              "      <th>slope1</th>\n",
              "      <th>slope2</th>\n",
              "      <th>slope3</th>\n",
              "      <th>slope4</th>\n",
              "      <th>slope5</th>\n",
              "      <th>slope6</th>\n",
              "      <th>slope7</th>\n",
              "      <th>slope8</th>\n",
              "      <th>aspectN</th>\n",
              "      <th>aspectE</th>\n",
              "      <th>aspectS</th>\n",
              "      <th>aspectW</th>\n",
              "      <th>aspectUnknown</th>\n",
              "      <th>WAT_LAND</th>\n",
              "      <th>NVG_LAND</th>\n",
              "      <th>URB_LAND</th>\n",
              "      <th>GRS_LAND</th>\n",
              "      <th>FOR_LAND</th>\n",
              "      <th>CULTRF_LAND</th>\n",
              "      <th>CULTIR_LAND</th>\n",
              "      <th>CULT_LAND</th>\n",
              "      <th>SQ1</th>\n",
              "      <th>SQ2</th>\n",
              "      <th>SQ3</th>\n",
              "      <th>SQ4</th>\n",
              "      <th>SQ5</th>\n",
              "      <th>SQ6</th>\n",
              "      <th>SQ7</th>\n",
              "    </tr>\n",
              "  </thead>\n",
              "  <tbody>\n",
              "    <tr>\n",
              "      <th>0</th>\n",
              "      <td>1001</td>\n",
              "      <td>32.536382</td>\n",
              "      <td>-86.644490</td>\n",
              "      <td>63</td>\n",
              "      <td>0.0419</td>\n",
              "      <td>0.2788</td>\n",
              "      <td>0.2984</td>\n",
              "      <td>0.2497</td>\n",
              "      <td>0.1142</td>\n",
              "      <td>0.0170</td>\n",
              "      <td>0.0000</td>\n",
              "      <td>0.0</td>\n",
              "      <td>0.1033</td>\n",
              "      <td>0.1859</td>\n",
              "      <td>0.2003</td>\n",
              "      <td>0.1898</td>\n",
              "      <td>0.3207</td>\n",
              "      <td>0.9974</td>\n",
              "      <td>27.940498</td>\n",
              "      <td>0.2889</td>\n",
              "      <td>2.750274</td>\n",
              "      <td>10.714703</td>\n",
              "      <td>56.293411</td>\n",
              "      <td>1.014811</td>\n",
              "      <td>57.308224</td>\n",
              "      <td>1</td>\n",
              "      <td>1</td>\n",
              "      <td>1</td>\n",
              "      <td>1</td>\n",
              "      <td>1</td>\n",
              "      <td>1</td>\n",
              "      <td>2</td>\n",
              "    </tr>\n",
              "    <tr>\n",
              "      <th>1</th>\n",
              "      <td>1005</td>\n",
              "      <td>31.870670</td>\n",
              "      <td>-85.405456</td>\n",
              "      <td>146</td>\n",
              "      <td>0.0158</td>\n",
              "      <td>0.1868</td>\n",
              "      <td>0.5441</td>\n",
              "      <td>0.2424</td>\n",
              "      <td>0.0106</td>\n",
              "      <td>0.0003</td>\n",
              "      <td>0.0000</td>\n",
              "      <td>0.0</td>\n",
              "      <td>0.1415</td>\n",
              "      <td>0.2379</td>\n",
              "      <td>0.2183</td>\n",
              "      <td>0.1997</td>\n",
              "      <td>0.2026</td>\n",
              "      <td>0.0000</td>\n",
              "      <td>0.000000</td>\n",
              "      <td>0.4146</td>\n",
              "      <td>2.225602</td>\n",
              "      <td>22.952839</td>\n",
              "      <td>72.578804</td>\n",
              "      <td>1.828159</td>\n",
              "      <td>74.406960</td>\n",
              "      <td>3</td>\n",
              "      <td>2</td>\n",
              "      <td>1</td>\n",
              "      <td>1</td>\n",
              "      <td>1</td>\n",
              "      <td>1</td>\n",
              "      <td>1</td>\n",
              "    </tr>\n",
              "    <tr>\n",
              "      <th>2</th>\n",
              "      <td>1003</td>\n",
              "      <td>30.659218</td>\n",
              "      <td>-87.746067</td>\n",
              "      <td>52</td>\n",
              "      <td>0.0746</td>\n",
              "      <td>0.4370</td>\n",
              "      <td>0.4415</td>\n",
              "      <td>0.0469</td>\n",
              "      <td>0.0000</td>\n",
              "      <td>0.0000</td>\n",
              "      <td>0.0000</td>\n",
              "      <td>0.0</td>\n",
              "      <td>0.1168</td>\n",
              "      <td>0.1386</td>\n",
              "      <td>0.1048</td>\n",
              "      <td>0.1282</td>\n",
              "      <td>0.5116</td>\n",
              "      <td>0.0000</td>\n",
              "      <td>0.000000</td>\n",
              "      <td>3.5010</td>\n",
              "      <td>4.972456</td>\n",
              "      <td>28.685991</td>\n",
              "      <td>59.843639</td>\n",
              "      <td>2.996914</td>\n",
              "      <td>62.840553</td>\n",
              "      <td>3</td>\n",
              "      <td>2</td>\n",
              "      <td>1</td>\n",
              "      <td>2</td>\n",
              "      <td>1</td>\n",
              "      <td>1</td>\n",
              "      <td>1</td>\n",
              "    </tr>\n",
              "    <tr>\n",
              "      <th>3</th>\n",
              "      <td>1007</td>\n",
              "      <td>33.015893</td>\n",
              "      <td>-87.127148</td>\n",
              "      <td>93</td>\n",
              "      <td>0.0144</td>\n",
              "      <td>0.1617</td>\n",
              "      <td>0.3714</td>\n",
              "      <td>0.3493</td>\n",
              "      <td>0.0898</td>\n",
              "      <td>0.0134</td>\n",
              "      <td>0.0000</td>\n",
              "      <td>0.0</td>\n",
              "      <td>0.1971</td>\n",
              "      <td>0.1885</td>\n",
              "      <td>0.2279</td>\n",
              "      <td>0.2104</td>\n",
              "      <td>0.1761</td>\n",
              "      <td>0.0000</td>\n",
              "      <td>0.000000</td>\n",
              "      <td>0.2283</td>\n",
              "      <td>8.674664</td>\n",
              "      <td>89.172112</td>\n",
              "      <td>1.916593</td>\n",
              "      <td>0.008330</td>\n",
              "      <td>1.924924</td>\n",
              "      <td>3</td>\n",
              "      <td>2</td>\n",
              "      <td>1</td>\n",
              "      <td>1</td>\n",
              "      <td>1</td>\n",
              "      <td>1</td>\n",
              "      <td>1</td>\n",
              "    </tr>\n",
              "    <tr>\n",
              "      <th>4</th>\n",
              "      <td>1009</td>\n",
              "      <td>33.977448</td>\n",
              "      <td>-86.567246</td>\n",
              "      <td>198</td>\n",
              "      <td>0.0050</td>\n",
              "      <td>0.0872</td>\n",
              "      <td>0.2799</td>\n",
              "      <td>0.3576</td>\n",
              "      <td>0.1477</td>\n",
              "      <td>0.1037</td>\n",
              "      <td>0.0189</td>\n",
              "      <td>0.0</td>\n",
              "      <td>0.2569</td>\n",
              "      <td>0.1503</td>\n",
              "      <td>0.2028</td>\n",
              "      <td>0.2978</td>\n",
              "      <td>0.0922</td>\n",
              "      <td>0.0000</td>\n",
              "      <td>0.000000</td>\n",
              "      <td>1.0037</td>\n",
              "      <td>8.606856</td>\n",
              "      <td>88.470047</td>\n",
              "      <td>1.891909</td>\n",
              "      <td>0.027488</td>\n",
              "      <td>1.919397</td>\n",
              "      <td>3</td>\n",
              "      <td>2</td>\n",
              "      <td>1</td>\n",
              "      <td>1</td>\n",
              "      <td>1</td>\n",
              "      <td>1</td>\n",
              "      <td>1</td>\n",
              "    </tr>\n",
              "  </tbody>\n",
              "</table>\n",
              "</div>"
            ],
            "text/plain": [
              "   fips        lat        lon  elevation  slope1  ...  SQ3  SQ4  SQ5  SQ6  SQ7\n",
              "0  1001  32.536382 -86.644490         63  0.0419  ...    1    1    1    1    2\n",
              "1  1005  31.870670 -85.405456        146  0.0158  ...    1    1    1    1    1\n",
              "2  1003  30.659218 -87.746067         52  0.0746  ...    1    2    1    1    1\n",
              "3  1007  33.015893 -87.127148         93  0.0144  ...    1    1    1    1    1\n",
              "4  1009  33.977448 -86.567246        198  0.0050  ...    1    1    1    1    1\n",
              "\n",
              "[5 rows x 32 columns]"
            ]
          },
          "metadata": {
            "tags": []
          },
          "execution_count": 16
        }
      ]
    },
    {
      "cell_type": "code",
      "metadata": {
        "colab": {
          "base_uri": "https://localhost:8080/"
        },
        "id": "6vEceEBAhJSd",
        "outputId": "f231cd38-64f7-428d-ab4c-27985c0276a1"
      },
      "source": [
        "soil.shape"
      ],
      "execution_count": 17,
      "outputs": [
        {
          "output_type": "execute_result",
          "data": {
            "text/plain": [
              "(3109, 32)"
            ]
          },
          "metadata": {
            "tags": []
          },
          "execution_count": 17
        }
      ]
    },
    {
      "cell_type": "code",
      "metadata": {
        "colab": {
          "base_uri": "https://localhost:8080/"
        },
        "id": "G-kZwqiHhU8z",
        "outputId": "bc21b955-598b-4b8d-f432-0104050956e7"
      },
      "source": [
        "soil.isnull().sum() # No null values!"
      ],
      "execution_count": 18,
      "outputs": [
        {
          "output_type": "execute_result",
          "data": {
            "text/plain": [
              "fips             0\n",
              "lat              0\n",
              "lon              0\n",
              "elevation        0\n",
              "slope1           0\n",
              "slope2           0\n",
              "slope3           0\n",
              "slope4           0\n",
              "slope5           0\n",
              "slope6           0\n",
              "slope7           0\n",
              "slope8           0\n",
              "aspectN          0\n",
              "aspectE          0\n",
              "aspectS          0\n",
              "aspectW          0\n",
              "aspectUnknown    0\n",
              "WAT_LAND         0\n",
              "NVG_LAND         0\n",
              "URB_LAND         0\n",
              "GRS_LAND         0\n",
              "FOR_LAND         0\n",
              "CULTRF_LAND      0\n",
              "CULTIR_LAND      0\n",
              "CULT_LAND        0\n",
              "SQ1              0\n",
              "SQ2              0\n",
              "SQ3              0\n",
              "SQ4              0\n",
              "SQ5              0\n",
              "SQ6              0\n",
              "SQ7              0\n",
              "dtype: int64"
            ]
          },
          "metadata": {
            "tags": []
          },
          "execution_count": 18
        }
      ]
    },
    {
      "cell_type": "code",
      "metadata": {
        "id": "3dd33Nlc1DUU"
      },
      "source": [
        "def soil_wrangle(df):\n",
        "    # Isolate PA counties in the soil dataset\n",
        "    condition = ((df['fips'] == 42001) | (df['fips'] == 42003) | \n",
        "             (df['fips'] == 42005) | (df['fips'] == 42007) | \n",
        "             (df['fips'] == 42009) | (df['fips'] == 42011) | \n",
        "             (df['fips'] == 42013) | (df['fips'] == 42015) | \n",
        "             (df['fips'] == 42017) | (df['fips'] == 42019) | \n",
        "             (df['fips'] == 42021) | (df['fips'] == 42023) | \n",
        "             (df['fips'] == 42025) | (df['fips'] == 42027) |\n",
        "             (df['fips'] == 42029)\t| (df['fips'] == 42031) |\n",
        "             (df['fips'] == 42033)\t| (df['fips'] == 42035) |\t\n",
        "             (df['fips'] == 42037)\t| (df['fips'] == 42039) |\n",
        "             (df['fips'] == 42041)\t| (df['fips'] == 42043) |\n",
        "             (df['fips'] == 42045)\t| (df['fips'] == 42047) |\n",
        "             (df['fips'] == 42049) | (df['fips'] == 42051) |\n",
        "             (df['fips'] == 42053) | (df['fips'] == 42055) |\n",
        "             (df['fips'] == 42057) | (df['fips'] == 42059) |\n",
        "             (df['fips'] == 42061) |\t(df['fips'] == 42063) |\t\n",
        "             (df['fips'] == 42065) |\t(df['fips'] == 42067) |\n",
        "             (df['fips'] == 42069)\t| (df['fips'] == 42071) |\t\n",
        "             (df['fips'] == 42073) |\t(df['fips'] == 42075) |\n",
        "             (df['fips'] == 42077) |\t(df['fips'] == 42079) |\n",
        "             (df['fips'] == 42081) |\t(df['fips'] == 42083) |\n",
        "             (df['fips'] == 42085) |\t(df['fips'] == 42087) | \n",
        "             (df['fips'] == 42089) | (df['fips'] == 42091) |\n",
        "             (df['fips'] == 42093)\t| (df['fips'] == 42095) |\n",
        "             (df['fips'] == 42097)\t| (df['fips'] == 42099) |\t\n",
        "             (df['fips'] == 42101)\t| (df['fips'] == 42103) |\n",
        "             (df['fips'] == 42105)\t| (df['fips'] == 42107) |\n",
        "             (df['fips'] == 42109)\t| (df['fips'] == 42111) |\n",
        "             (df['fips'] == 42113)\t| (df['fips'] == 42115) | \n",
        "             (df['fips'] == 42117) | (df['fips'] == 42119) |\n",
        "             (df['fips'] == 42121) | (df['fips'] == 42123) |\n",
        "             (df['fips'] == 42125)\t| (df['fips'] == 42127) |\n",
        "             (df['fips'] == 42129)\t| (df['fips'] == 42131) |\n",
        "             (df['fips'] == 42133))\n",
        "    \n",
        "    df = df[condition]\n",
        "    \n",
        "    return df"
      ],
      "execution_count": 22,
      "outputs": []
    },
    {
      "cell_type": "code",
      "metadata": {
        "id": "Z6yqtaC04PLS"
      },
      "source": [
        "soil_pa = soil_wrangle(soil)"
      ],
      "execution_count": 23,
      "outputs": []
    },
    {
      "cell_type": "code",
      "metadata": {
        "id": "roCyqt59qPJw"
      },
      "source": [
        "# Merge PA weather data with PA soil data\n",
        "\n",
        "train_pa_final = pd.merge(left=train_pa, right=soil_pa, how='left', on='fips') "
      ],
      "execution_count": 24,
      "outputs": []
    },
    {
      "cell_type": "code",
      "metadata": {
        "id": "-MoCq1Bj3G9D"
      },
      "source": [
        "# Set date to DateTime format\n",
        "\n",
        "train_pa_final['date']= pd.to_datetime(train_pa_final['date'])"
      ],
      "execution_count": 25,
      "outputs": []
    },
    {
      "cell_type": "code",
      "metadata": {
        "colab": {
          "base_uri": "https://localhost:8080/",
          "height": 309
        },
        "id": "4lUGJ4L_q_gQ",
        "outputId": "15f1c859-8ce8-40cf-8fc7-32a303e22677"
      },
      "source": [
        "train_pa_final.head()"
      ],
      "execution_count": 26,
      "outputs": [
        {
          "output_type": "execute_result",
          "data": {
            "text/html": [
              "<div>\n",
              "<style scoped>\n",
              "    .dataframe tbody tr th:only-of-type {\n",
              "        vertical-align: middle;\n",
              "    }\n",
              "\n",
              "    .dataframe tbody tr th {\n",
              "        vertical-align: top;\n",
              "    }\n",
              "\n",
              "    .dataframe thead th {\n",
              "        text-align: right;\n",
              "    }\n",
              "</style>\n",
              "<table border=\"1\" class=\"dataframe\">\n",
              "  <thead>\n",
              "    <tr style=\"text-align: right;\">\n",
              "      <th></th>\n",
              "      <th>fips</th>\n",
              "      <th>date</th>\n",
              "      <th>PRECTOT</th>\n",
              "      <th>PS</th>\n",
              "      <th>QV2M</th>\n",
              "      <th>T2M</th>\n",
              "      <th>T2MDEW</th>\n",
              "      <th>T2MWET</th>\n",
              "      <th>T2M_MAX</th>\n",
              "      <th>T2M_MIN</th>\n",
              "      <th>T2M_RANGE</th>\n",
              "      <th>TS</th>\n",
              "      <th>WS10M</th>\n",
              "      <th>WS10M_MAX</th>\n",
              "      <th>WS10M_MIN</th>\n",
              "      <th>WS10M_RANGE</th>\n",
              "      <th>WS50M</th>\n",
              "      <th>WS50M_MAX</th>\n",
              "      <th>WS50M_MIN</th>\n",
              "      <th>WS50M_RANGE</th>\n",
              "      <th>score</th>\n",
              "      <th>weekly_prec</th>\n",
              "      <th>biweekly_prec</th>\n",
              "      <th>triweekly_prec</th>\n",
              "      <th>monthly_prec</th>\n",
              "      <th>lat</th>\n",
              "      <th>lon</th>\n",
              "      <th>elevation</th>\n",
              "      <th>slope1</th>\n",
              "      <th>slope2</th>\n",
              "      <th>slope3</th>\n",
              "      <th>slope4</th>\n",
              "      <th>slope5</th>\n",
              "      <th>slope6</th>\n",
              "      <th>slope7</th>\n",
              "      <th>slope8</th>\n",
              "      <th>aspectN</th>\n",
              "      <th>aspectE</th>\n",
              "      <th>aspectS</th>\n",
              "      <th>aspectW</th>\n",
              "      <th>aspectUnknown</th>\n",
              "      <th>WAT_LAND</th>\n",
              "      <th>NVG_LAND</th>\n",
              "      <th>URB_LAND</th>\n",
              "      <th>GRS_LAND</th>\n",
              "      <th>FOR_LAND</th>\n",
              "      <th>CULTRF_LAND</th>\n",
              "      <th>CULTIR_LAND</th>\n",
              "      <th>CULT_LAND</th>\n",
              "      <th>SQ1</th>\n",
              "      <th>SQ2</th>\n",
              "      <th>SQ3</th>\n",
              "      <th>SQ4</th>\n",
              "      <th>SQ5</th>\n",
              "      <th>SQ6</th>\n",
              "      <th>SQ7</th>\n",
              "    </tr>\n",
              "  </thead>\n",
              "  <tbody>\n",
              "    <tr>\n",
              "      <th>0</th>\n",
              "      <td>42001</td>\n",
              "      <td>2000-01-01</td>\n",
              "      <td>0.00</td>\n",
              "      <td>99.76</td>\n",
              "      <td>4.06</td>\n",
              "      <td>1.22</td>\n",
              "      <td>0.73</td>\n",
              "      <td>0.73</td>\n",
              "      <td>7.14</td>\n",
              "      <td>-2.04</td>\n",
              "      <td>9.18</td>\n",
              "      <td>0.61</td>\n",
              "      <td>2.14</td>\n",
              "      <td>3.25</td>\n",
              "      <td>0.99</td>\n",
              "      <td>2.26</td>\n",
              "      <td>3.78</td>\n",
              "      <td>6.96</td>\n",
              "      <td>1.43</td>\n",
              "      <td>5.53</td>\n",
              "      <td>NaN</td>\n",
              "      <td>0.00</td>\n",
              "      <td>0.00</td>\n",
              "      <td>0.00</td>\n",
              "      <td>0.00</td>\n",
              "      <td>39.869471</td>\n",
              "      <td>-77.21773</td>\n",
              "      <td>157</td>\n",
              "      <td>0.0202</td>\n",
              "      <td>0.2971</td>\n",
              "      <td>0.4955</td>\n",
              "      <td>0.1564</td>\n",
              "      <td>0.023</td>\n",
              "      <td>0.0078</td>\n",
              "      <td>0.0</td>\n",
              "      <td>0.0</td>\n",
              "      <td>0.1181</td>\n",
              "      <td>0.1949</td>\n",
              "      <td>0.1443</td>\n",
              "      <td>0.2254</td>\n",
              "      <td>0.3173</td>\n",
              "      <td>0.0</td>\n",
              "      <td>0.0</td>\n",
              "      <td>0.9597</td>\n",
              "      <td>4.079156</td>\n",
              "      <td>33.219521</td>\n",
              "      <td>61.358013</td>\n",
              "      <td>0.38361</td>\n",
              "      <td>61.741623</td>\n",
              "      <td>1</td>\n",
              "      <td>1</td>\n",
              "      <td>1</td>\n",
              "      <td>1</td>\n",
              "      <td>1</td>\n",
              "      <td>1</td>\n",
              "      <td>1</td>\n",
              "    </tr>\n",
              "    <tr>\n",
              "      <th>1</th>\n",
              "      <td>42001</td>\n",
              "      <td>2000-01-02</td>\n",
              "      <td>0.18</td>\n",
              "      <td>99.41</td>\n",
              "      <td>5.71</td>\n",
              "      <td>5.02</td>\n",
              "      <td>5.27</td>\n",
              "      <td>5.27</td>\n",
              "      <td>9.35</td>\n",
              "      <td>1.20</td>\n",
              "      <td>8.16</td>\n",
              "      <td>4.56</td>\n",
              "      <td>3.42</td>\n",
              "      <td>4.50</td>\n",
              "      <td>2.52</td>\n",
              "      <td>1.98</td>\n",
              "      <td>6.15</td>\n",
              "      <td>9.00</td>\n",
              "      <td>3.75</td>\n",
              "      <td>5.25</td>\n",
              "      <td>NaN</td>\n",
              "      <td>0.00</td>\n",
              "      <td>0.00</td>\n",
              "      <td>0.00</td>\n",
              "      <td>0.00</td>\n",
              "      <td>39.869471</td>\n",
              "      <td>-77.21773</td>\n",
              "      <td>157</td>\n",
              "      <td>0.0202</td>\n",
              "      <td>0.2971</td>\n",
              "      <td>0.4955</td>\n",
              "      <td>0.1564</td>\n",
              "      <td>0.023</td>\n",
              "      <td>0.0078</td>\n",
              "      <td>0.0</td>\n",
              "      <td>0.0</td>\n",
              "      <td>0.1181</td>\n",
              "      <td>0.1949</td>\n",
              "      <td>0.1443</td>\n",
              "      <td>0.2254</td>\n",
              "      <td>0.3173</td>\n",
              "      <td>0.0</td>\n",
              "      <td>0.0</td>\n",
              "      <td>0.9597</td>\n",
              "      <td>4.079156</td>\n",
              "      <td>33.219521</td>\n",
              "      <td>61.358013</td>\n",
              "      <td>0.38361</td>\n",
              "      <td>61.741623</td>\n",
              "      <td>1</td>\n",
              "      <td>1</td>\n",
              "      <td>1</td>\n",
              "      <td>1</td>\n",
              "      <td>1</td>\n",
              "      <td>1</td>\n",
              "      <td>1</td>\n",
              "    </tr>\n",
              "    <tr>\n",
              "      <th>2</th>\n",
              "      <td>42001</td>\n",
              "      <td>2000-01-03</td>\n",
              "      <td>0.37</td>\n",
              "      <td>99.20</td>\n",
              "      <td>7.49</td>\n",
              "      <td>9.46</td>\n",
              "      <td>9.44</td>\n",
              "      <td>9.44</td>\n",
              "      <td>13.50</td>\n",
              "      <td>6.32</td>\n",
              "      <td>7.18</td>\n",
              "      <td>8.88</td>\n",
              "      <td>3.11</td>\n",
              "      <td>4.93</td>\n",
              "      <td>1.89</td>\n",
              "      <td>3.05</td>\n",
              "      <td>5.95</td>\n",
              "      <td>8.87</td>\n",
              "      <td>2.24</td>\n",
              "      <td>6.63</td>\n",
              "      <td>NaN</td>\n",
              "      <td>0.18</td>\n",
              "      <td>0.18</td>\n",
              "      <td>0.18</td>\n",
              "      <td>0.18</td>\n",
              "      <td>39.869471</td>\n",
              "      <td>-77.21773</td>\n",
              "      <td>157</td>\n",
              "      <td>0.0202</td>\n",
              "      <td>0.2971</td>\n",
              "      <td>0.4955</td>\n",
              "      <td>0.1564</td>\n",
              "      <td>0.023</td>\n",
              "      <td>0.0078</td>\n",
              "      <td>0.0</td>\n",
              "      <td>0.0</td>\n",
              "      <td>0.1181</td>\n",
              "      <td>0.1949</td>\n",
              "      <td>0.1443</td>\n",
              "      <td>0.2254</td>\n",
              "      <td>0.3173</td>\n",
              "      <td>0.0</td>\n",
              "      <td>0.0</td>\n",
              "      <td>0.9597</td>\n",
              "      <td>4.079156</td>\n",
              "      <td>33.219521</td>\n",
              "      <td>61.358013</td>\n",
              "      <td>0.38361</td>\n",
              "      <td>61.741623</td>\n",
              "      <td>1</td>\n",
              "      <td>1</td>\n",
              "      <td>1</td>\n",
              "      <td>1</td>\n",
              "      <td>1</td>\n",
              "      <td>1</td>\n",
              "      <td>1</td>\n",
              "    </tr>\n",
              "    <tr>\n",
              "      <th>3</th>\n",
              "      <td>42001</td>\n",
              "      <td>2000-01-04</td>\n",
              "      <td>8.25</td>\n",
              "      <td>98.29</td>\n",
              "      <td>7.68</td>\n",
              "      <td>10.13</td>\n",
              "      <td>9.17</td>\n",
              "      <td>9.18</td>\n",
              "      <td>14.81</td>\n",
              "      <td>1.72</td>\n",
              "      <td>13.09</td>\n",
              "      <td>9.54</td>\n",
              "      <td>5.51</td>\n",
              "      <td>7.29</td>\n",
              "      <td>4.55</td>\n",
              "      <td>2.74</td>\n",
              "      <td>8.98</td>\n",
              "      <td>11.08</td>\n",
              "      <td>7.45</td>\n",
              "      <td>3.63</td>\n",
              "      <td>0.0</td>\n",
              "      <td>0.55</td>\n",
              "      <td>0.55</td>\n",
              "      <td>0.55</td>\n",
              "      <td>0.55</td>\n",
              "      <td>39.869471</td>\n",
              "      <td>-77.21773</td>\n",
              "      <td>157</td>\n",
              "      <td>0.0202</td>\n",
              "      <td>0.2971</td>\n",
              "      <td>0.4955</td>\n",
              "      <td>0.1564</td>\n",
              "      <td>0.023</td>\n",
              "      <td>0.0078</td>\n",
              "      <td>0.0</td>\n",
              "      <td>0.0</td>\n",
              "      <td>0.1181</td>\n",
              "      <td>0.1949</td>\n",
              "      <td>0.1443</td>\n",
              "      <td>0.2254</td>\n",
              "      <td>0.3173</td>\n",
              "      <td>0.0</td>\n",
              "      <td>0.0</td>\n",
              "      <td>0.9597</td>\n",
              "      <td>4.079156</td>\n",
              "      <td>33.219521</td>\n",
              "      <td>61.358013</td>\n",
              "      <td>0.38361</td>\n",
              "      <td>61.741623</td>\n",
              "      <td>1</td>\n",
              "      <td>1</td>\n",
              "      <td>1</td>\n",
              "      <td>1</td>\n",
              "      <td>1</td>\n",
              "      <td>1</td>\n",
              "      <td>1</td>\n",
              "    </tr>\n",
              "    <tr>\n",
              "      <th>4</th>\n",
              "      <td>42001</td>\n",
              "      <td>2000-01-05</td>\n",
              "      <td>0.34</td>\n",
              "      <td>99.78</td>\n",
              "      <td>2.67</td>\n",
              "      <td>-0.32</td>\n",
              "      <td>-4.76</td>\n",
              "      <td>-4.69</td>\n",
              "      <td>3.43</td>\n",
              "      <td>-3.22</td>\n",
              "      <td>6.64</td>\n",
              "      <td>-0.86</td>\n",
              "      <td>4.52</td>\n",
              "      <td>7.04</td>\n",
              "      <td>1.16</td>\n",
              "      <td>5.88</td>\n",
              "      <td>7.08</td>\n",
              "      <td>9.72</td>\n",
              "      <td>1.78</td>\n",
              "      <td>7.94</td>\n",
              "      <td>NaN</td>\n",
              "      <td>8.80</td>\n",
              "      <td>8.80</td>\n",
              "      <td>8.80</td>\n",
              "      <td>8.80</td>\n",
              "      <td>39.869471</td>\n",
              "      <td>-77.21773</td>\n",
              "      <td>157</td>\n",
              "      <td>0.0202</td>\n",
              "      <td>0.2971</td>\n",
              "      <td>0.4955</td>\n",
              "      <td>0.1564</td>\n",
              "      <td>0.023</td>\n",
              "      <td>0.0078</td>\n",
              "      <td>0.0</td>\n",
              "      <td>0.0</td>\n",
              "      <td>0.1181</td>\n",
              "      <td>0.1949</td>\n",
              "      <td>0.1443</td>\n",
              "      <td>0.2254</td>\n",
              "      <td>0.3173</td>\n",
              "      <td>0.0</td>\n",
              "      <td>0.0</td>\n",
              "      <td>0.9597</td>\n",
              "      <td>4.079156</td>\n",
              "      <td>33.219521</td>\n",
              "      <td>61.358013</td>\n",
              "      <td>0.38361</td>\n",
              "      <td>61.741623</td>\n",
              "      <td>1</td>\n",
              "      <td>1</td>\n",
              "      <td>1</td>\n",
              "      <td>1</td>\n",
              "      <td>1</td>\n",
              "      <td>1</td>\n",
              "      <td>1</td>\n",
              "    </tr>\n",
              "  </tbody>\n",
              "</table>\n",
              "</div>"
            ],
            "text/plain": [
              "    fips       date  PRECTOT     PS  QV2M    T2M  ...  SQ2  SQ3  SQ4  SQ5  SQ6  SQ7\n",
              "0  42001 2000-01-01     0.00  99.76  4.06   1.22  ...    1    1    1    1    1    1\n",
              "1  42001 2000-01-02     0.18  99.41  5.71   5.02  ...    1    1    1    1    1    1\n",
              "2  42001 2000-01-03     0.37  99.20  7.49   9.46  ...    1    1    1    1    1    1\n",
              "3  42001 2000-01-04     8.25  98.29  7.68  10.13  ...    1    1    1    1    1    1\n",
              "4  42001 2000-01-05     0.34  99.78  2.67  -0.32  ...    1    1    1    1    1    1\n",
              "\n",
              "[5 rows x 56 columns]"
            ]
          },
          "metadata": {
            "tags": []
          },
          "execution_count": 26
        }
      ]
    },
    {
      "cell_type": "code",
      "metadata": {
        "colab": {
          "base_uri": "https://localhost:8080/"
        },
        "id": "vQNxeOlTCmWW",
        "outputId": "1eb7beb1-d1a2-4145-b9cc-48a922905631"
      },
      "source": [
        "train_pa_final.shape"
      ],
      "execution_count": 27,
      "outputs": [
        {
          "output_type": "execute_result",
          "data": {
            "text/plain": [
              "(416070, 56)"
            ]
          },
          "metadata": {
            "tags": []
          },
          "execution_count": 27
        }
      ]
    },
    {
      "cell_type": "markdown",
      "metadata": {
        "id": "F-JInOROgXz5"
      },
      "source": [
        "**Target Column:** 'score' because that is where the drought condition is recorded"
      ]
    },
    {
      "cell_type": "code",
      "metadata": {
        "colab": {
          "base_uri": "https://localhost:8080/",
          "height": 295
        },
        "id": "5iLjVGp2gXgP",
        "outputId": "278a7de3-01ca-4ffe-d38e-72b7da0bf6f4"
      },
      "source": [
        "sns.histplot(train_pa_final['score'], bins=15)\n",
        "plt.title('Distribution of the Values in the Target Column')\n",
        "plt.show()"
      ],
      "execution_count": 33,
      "outputs": [
        {
          "output_type": "display_data",
          "data": {
            "image/png": "[encoded data removed]",
            "text/plain": [
              "<Figure size 432x288 with 1 Axes>"
            ]
          },
          "metadata": {
            "tags": [],
            "needs_background": "light"
          }
        }
      ]
    },
    {
      "cell_type": "markdown",
      "metadata": {
        "id": "2QaXlNOb5npK"
      },
      "source": [
        "This will be treated as a classification problem with the following categories:\n",
        "\n",
        "*   'None' (score == 0.0)\n",
        "*   'Abnormal (D0)' (0.0 < score <= 1.0)\n",
        "*   'Moderate (D1)' (1.0 < score <= 2.0)\n",
        "*   'Severe (D2)' (2.0 < score <= 3.0)\n",
        "*   'Extreme (D3)' (3.0 < score <= 4.0)\n",
        "*   'Exceptional (D4)' (4.0 < score <= 5.0)\n",
        "\n",
        "Before updating the classification values, the NaNs in the 'score' columns will need to be imputed. This is due to the fact that the meteorogical data is recorded every day but the drought data is recorded every week.\n",
        "\n"
      ]
    },
    {
      "cell_type": "markdown",
      "metadata": {
        "id": "9XsjOnHTBnZH"
      },
      "source": [
        "**Train/Validate/Test**\n",
        "\n",
        "The split is time-based and was created by the Kaggle dataset author. The split is as follows:\n",
        "\n",
        "Train: Jan. 1, 2000 to Dec. 31, 2016\n",
        "Val: Jan. 1, 2017 to Dec. 31, 2018\n",
        "Test: Jan. 1, 2019 to Dec. 31, 2020"
      ]
    },
    {
      "cell_type": "code",
      "metadata": {
        "colab": {
          "base_uri": "https://localhost:8080/"
        },
        "id": "Px1X5LOiBsZu",
        "outputId": "8296e259-86f4-4fd8-e694-2ed95656bd1d"
      },
      "source": [
        "val = pd.read_csv('/content/validation_timeseries/validation_timeseries.csv')\n",
        "val.shape"
      ],
      "execution_count": 34,
      "outputs": [
        {
          "output_type": "execute_result",
          "data": {
            "text/plain": [
              "(2268840, 21)"
            ]
          },
          "metadata": {
            "tags": []
          },
          "execution_count": 34
        }
      ]
    },
    {
      "cell_type": "code",
      "metadata": {
        "id": "q52YruSdB-h_"
      },
      "source": [
        " # Apply wrangle function to isolate Pennsylvania observations in the validation dataset & add engineered features\n",
        "val_pa = wrangle(val)"
      ],
      "execution_count": 35,
      "outputs": []
    },
    {
      "cell_type": "code",
      "metadata": {
        "id": "K7Z3cO4yCF21"
      },
      "source": [
        "val_pa_final = pd.merge(left=val_pa, right=soil_pa, how='left', on='fips') # Merge with Soil_PA dataset"
      ],
      "execution_count": 36,
      "outputs": []
    },
    {
      "cell_type": "code",
      "metadata": {
        "id": "mTGpSACA3zY-"
      },
      "source": [
        "# Set date to DateTime format\n",
        "\n",
        "val_pa_final['date']= pd.to_datetime(val_pa_final['date'])"
      ],
      "execution_count": 37,
      "outputs": []
    },
    {
      "cell_type": "code",
      "metadata": {
        "colab": {
          "base_uri": "https://localhost:8080/"
        },
        "id": "l3P3HwNdCUvY",
        "outputId": "2b5d4b45-1ecc-4762-8448-7c738501b2f7"
      },
      "source": [
        "val_pa_final.shape"
      ],
      "execution_count": 38,
      "outputs": [
        {
          "output_type": "execute_result",
          "data": {
            "text/plain": [
              "(48910, 56)"
            ]
          },
          "metadata": {
            "tags": []
          },
          "execution_count": 38
        }
      ]
    },
    {
      "cell_type": "code",
      "metadata": {
        "colab": {
          "base_uri": "https://localhost:8080/"
        },
        "id": "eHVtu9cICu9X",
        "outputId": "d37376da-8d96-41ad-b98a-90136556532f"
      },
      "source": [
        "test = pd.read_csv('/content/test_timeseries/test_timeseries.csv')\n",
        "test.shape"
      ],
      "execution_count": 39,
      "outputs": [
        {
          "output_type": "execute_result",
          "data": {
            "text/plain": [
              "(2271948, 21)"
            ]
          },
          "metadata": {
            "tags": []
          },
          "execution_count": 39
        }
      ]
    },
    {
      "cell_type": "code",
      "metadata": {
        "id": "utbh4rfEC6RF"
      },
      "source": [
        "# Apply wrangle function to isolate Pennsylvania observations in the test dataset & add engineered features\n",
        "test_pa = wrangle(test) "
      ],
      "execution_count": 40,
      "outputs": []
    },
    {
      "cell_type": "code",
      "metadata": {
        "id": "g8rN6zzGDAtD"
      },
      "source": [
        "test_pa_final = pd.merge(left=test_pa, right=soil_pa, how='left', on='fips') # Merge with Soil_PA dataset"
      ],
      "execution_count": 41,
      "outputs": []
    },
    {
      "cell_type": "code",
      "metadata": {
        "id": "MChbCoFN397y"
      },
      "source": [
        "# Set date to DateTime format\n",
        "test_pa_final['date']= pd.to_datetime(test_pa_final['date'])"
      ],
      "execution_count": 42,
      "outputs": []
    },
    {
      "cell_type": "code",
      "metadata": {
        "colab": {
          "base_uri": "https://localhost:8080/"
        },
        "id": "utDAHSdlDJyu",
        "outputId": "d8ed7c6d-e8d4-48c4-f4a0-53dc9961ca5b"
      },
      "source": [
        "test_pa_final.shape"
      ],
      "execution_count": 43,
      "outputs": [
        {
          "output_type": "execute_result",
          "data": {
            "text/plain": [
              "(48977, 56)"
            ]
          },
          "metadata": {
            "tags": []
          },
          "execution_count": 43
        }
      ]
    },
    {
      "cell_type": "code",
      "metadata": {
        "id": "kvlDF40I8D3C"
      },
      "source": [
        "# Define function to fill the NaNs in the target vector using the interpolate method \n",
        "# (with default options for linear interpolation)\n",
        "\n",
        "def target_interpolate(y):\n",
        "  y = y.interpolate(inplace = True)\n",
        "\n",
        "  return y"
      ],
      "execution_count": 44,
      "outputs": []
    },
    {
      "cell_type": "code",
      "metadata": {
        "id": "I__rV0zn-YEA"
      },
      "source": [
        "target = 'score'\n",
        "y_train = train_pa_final[target] # Create target vector for training dataset\n",
        "y_val = val_pa_final[target] # Create target vector for validation dataset\n",
        "y_test = test_pa_final[target] # Create target vector for test dataset"
      ],
      "execution_count": 45,
      "outputs": []
    },
    {
      "cell_type": "code",
      "metadata": {
        "id": "p5vv0d0O-mqa"
      },
      "source": [
        "target_interpolate(y_train) # Apply target_interpolate function to training dataset"
      ],
      "execution_count": 46,
      "outputs": []
    },
    {
      "cell_type": "code",
      "metadata": {
        "id": "ec1lHBtxt_1H"
      },
      "source": [
        "target_interpolate(y_val) # Apply target_interpolate function to validation dataset\n",
        "target_interpolate(y_test) # Apply target_interpolate function to test dataset"
      ],
      "execution_count": 47,
      "outputs": []
    },
    {
      "cell_type": "code",
      "metadata": {
        "colab": {
          "base_uri": "https://localhost:8080/"
        },
        "id": "KJDOgfv4qZ1Y",
        "outputId": "e7ef7d37-0b62-49b7-b1b7-e76bc121e78b"
      },
      "source": [
        "# Manually replace first 3 NaN values in y_train (because those values were not interpolated by target_interpolate function)\n",
        "for i in range(0, 3):\n",
        "  y_train[i] = y_train[3]"
      ],
      "execution_count": 48,
      "outputs": [
        {
          "output_type": "stream",
          "text": [
            "/usr/local/lib/python3.7/dist-packages/ipykernel_launcher.py:3: SettingWithCopyWarning: \n",
            "A value is trying to be set on a copy of a slice from a DataFrame\n",
            "\n",
            "See the caveats in the documentation: https://pandas.pydata.org/pandas-docs/stable/user_guide/indexing.html#returning-a-view-versus-a-copy\n",
            "  This is separate from the ipykernel package so we can avoid doing imports until\n"
          ],
          "name": "stderr"
        }
      ]
    },
    {
      "cell_type": "code",
      "metadata": {
        "colab": {
          "base_uri": "https://localhost:8080/"
        },
        "id": "L2KSyf26xIpM",
        "outputId": "647acde6-2a3c-4cdf-93c6-1a6a0fe155f1"
      },
      "source": [
        "# Manually replace first 2 NaN values in y_val (because those values were not interpolated by target_interpolate function)\n",
        "for i in range(0, 2):\n",
        "  y_val[i] = y_val[2]"
      ],
      "execution_count": 49,
      "outputs": [
        {
          "output_type": "stream",
          "text": [
            "/usr/local/lib/python3.7/dist-packages/ipykernel_launcher.py:3: SettingWithCopyWarning: \n",
            "A value is trying to be set on a copy of a slice from a DataFrame\n",
            "\n",
            "See the caveats in the documentation: https://pandas.pydata.org/pandas-docs/stable/user_guide/indexing.html#returning-a-view-versus-a-copy\n",
            "  This is separate from the ipykernel package so we can avoid doing imports until\n"
          ],
          "name": "stderr"
        }
      ]
    },
    {
      "cell_type": "code",
      "metadata": {
        "id": "l8NCaZEY1DUd"
      },
      "source": [
        "# Set up date as the index\n",
        "train_pa_final = train_pa_final.set_index('date')\n",
        "val_pa_final = val_pa_final.set_index('date')\n",
        "test_pa_final = test_pa_final.set_index('date')"
      ],
      "execution_count": 50,
      "outputs": []
    },
    {
      "cell_type": "code",
      "metadata": {
        "id": "Lv5mYcfb9gLX"
      },
      "source": [
        "X_train = train_pa_final.drop(columns = target) # Create feature matrix for training dataset\n",
        "X_val = val_pa_final.drop(columns = target) # Create feature matrix for validation dataset\n",
        "X_test = test_pa_final.drop(columns = target) # Create feature matrix for training dataset"
      ],
      "execution_count": 51,
      "outputs": []
    },
    {
      "cell_type": "markdown",
      "metadata": {
        "id": "pubxnGIULOJB"
      },
      "source": [
        "# Set up problem as a Classification problem using Random Forest Classifier"
      ]
    },
    {
      "cell_type": "code",
      "metadata": {
        "id": "CYS_9Bjm_vu8"
      },
      "source": [
        "# Function to change target vector float values to drought categories\n",
        "\n",
        "def drought_cat(y):\n",
        "  none = (y == 0.0)\n",
        "  abnormal = (y > 0.0) & (y <= 1.0)\n",
        "  moderate = (y > 1.0) & (y <= 2.0)\n",
        "  severe = (y > 2.0) & (y <= 3.0)\n",
        "  extreme = (y > 3.0) & (y <= 4.0)\n",
        "  exceptional = (y > 4.0) & (y <= 5.0)\n",
        "\n",
        "  y.loc[none] = 'none'\n",
        "  y.loc[abnormal] = 'abnormal'\n",
        "  y.loc[moderate] = 'moderate'\n",
        "  y.loc[severe] = 'severe'\n",
        "  y.loc[extreme] = 'extreme'\n",
        "  y.loc[exceptional] = 'exceptional'\n",
        "\n",
        "  return y"
      ],
      "execution_count": 52,
      "outputs": []
    },
    {
      "cell_type": "code",
      "metadata": {
        "colab": {
          "base_uri": "https://localhost:8080/"
        },
        "id": "nO5wY_vEB40h",
        "outputId": "a5c1967a-ae3f-4720-d1f1-13bd56769a60"
      },
      "source": [
        "# Apply Drought Category Function to training set target vector\n",
        "\n",
        "drought_cat(y_train)"
      ],
      "execution_count": 53,
      "outputs": [
        {
          "output_type": "execute_result",
          "data": {
            "text/plain": [
              "0             none\n",
              "1             none\n",
              "2             none\n",
              "3             none\n",
              "4             none\n",
              "            ...   \n",
              "416065    moderate\n",
              "416066    moderate\n",
              "416067    moderate\n",
              "416068    moderate\n",
              "416069    moderate\n",
              "Name: score, Length: 416070, dtype: object"
            ]
          },
          "metadata": {
            "tags": []
          },
          "execution_count": 53
        }
      ]
    },
    {
      "cell_type": "code",
      "metadata": {
        "colab": {
          "base_uri": "https://localhost:8080/"
        },
        "id": "SgstUGfUJVyE",
        "outputId": "d953da13-f161-445d-df9d-a72293cc7604"
      },
      "source": [
        "# Apply Drought Category Function to validation set target vector\n",
        "\n",
        "drought_cat(y_val)"
      ],
      "execution_count": 54,
      "outputs": [
        {
          "output_type": "execute_result",
          "data": {
            "text/plain": [
              "0        moderate\n",
              "1        moderate\n",
              "2        moderate\n",
              "3        moderate\n",
              "4        moderate\n",
              "           ...   \n",
              "48905        none\n",
              "48906        none\n",
              "48907        none\n",
              "48908        none\n",
              "48909        none\n",
              "Name: score, Length: 48910, dtype: object"
            ]
          },
          "metadata": {
            "tags": []
          },
          "execution_count": 54
        }
      ]
    },
    {
      "cell_type": "code",
      "metadata": {
        "colab": {
          "base_uri": "https://localhost:8080/"
        },
        "id": "x4XG6vc_OLK9",
        "outputId": "b9b71cf4-6531-427a-ff6d-5e6bfba6ba4c"
      },
      "source": [
        "# Apply Drought Category Function to testing set target vector\n",
        "\n",
        "drought_cat(y_test)"
      ],
      "execution_count": 55,
      "outputs": [
        {
          "output_type": "execute_result",
          "data": {
            "text/plain": [
              "0            none\n",
              "1            none\n",
              "2            none\n",
              "3            none\n",
              "4            none\n",
              "           ...   \n",
              "48972    abnormal\n",
              "48973    abnormal\n",
              "48974    abnormal\n",
              "48975    abnormal\n",
              "48976    abnormal\n",
              "Name: score, Length: 48977, dtype: object"
            ]
          },
          "metadata": {
            "tags": []
          },
          "execution_count": 55
        }
      ]
    },
    {
      "cell_type": "code",
      "metadata": {
        "colab": {
          "base_uri": "https://localhost:8080/",
          "height": 295
        },
        "id": "SYLJiiTEBlyT",
        "outputId": "8b71aa3e-fca3-4f0a-b333-336ac29ef989"
      },
      "source": [
        "sns.histplot(y_train, bins=10, stat = 'probability')\n",
        "plt.title('Distribution of the Categrical Values in the Training Target')\n",
        "plt.show()"
      ],
      "execution_count": 80,
      "outputs": [
        {
          "output_type": "display_data",
          "data": {
            "image/png": "[encoded data removed]",
            "text/plain": [
              "<Figure size 432x288 with 1 Axes>"
            ]
          },
          "metadata": {
            "tags": [],
            "needs_background": "light"
          }
        }
      ]
    },
    {
      "cell_type": "markdown",
      "metadata": {
        "id": "NDqUrhPs1DUh"
      },
      "source": [
        "\n",
        "# Evaluation Metric and Baseline Score"
      ]
    },
    {
      "cell_type": "markdown",
      "metadata": {
        "id": "vzpnGDFQ7iOt"
      },
      "source": [
        "**Evaluation metric:**\n",
        "Because the target vector classes are imbalanced (with 'none' comprising 67%), accuracy_score will not be a good evaluation metric as it could be misleading. \n",
        "I plan to rely on balanced_accuracy_score as the evaluation metric and, in addition, plan to plot the confusion matrix and calculate the precision/recall for the different drought categories."
      ]
    },
    {
      "cell_type": "code",
      "metadata": {
        "colab": {
          "base_uri": "https://localhost:8080/"
        },
        "id": "4R336U1KJeG3",
        "outputId": "eb5d9236-85fb-4fae-e8e7-7b554562c003"
      },
      "source": [
        "# Calculate Baseline Score\n",
        "\n",
        "from sklearn.metrics import accuracy_score, balanced_accuracy_score\n",
        "from sklearn.dummy import DummyClassifier\n",
        "\n",
        "dummy_classifier = DummyClassifier(strategy=\"most_frequent\")\n",
        "dummy_classifier.fit(X_train, y_train)\n",
        "\n",
        "# Using Accuracy Score on the validation dataset\n",
        "print(f'Baseline Accuracy of the dummy classifier: '\n",
        "      f'{dummy_classifier.score(X_val, y_val):.3f}')\n",
        "\n",
        "# Using Balanced Accuracy on the validation dataset to account for the imbalanced classes\n",
        "baseline_acc = balanced_accuracy_score(y_val, dummy_classifier.predict(X_val))\n",
        "print(f'Baseline Balanced Accuracy of the dummy classifier:', baseline_acc)"
      ],
      "execution_count": 82,
      "outputs": [
        {
          "output_type": "stream",
          "text": [
            "Baseline Accuracy of the dummy classifier: 0.780\n",
            "Baseline Balanced Accuracy of the dummy classifier: 0.25\n"
          ],
          "name": "stdout"
        }
      ]
    },
    {
      "cell_type": "markdown",
      "metadata": {
        "id": "W9Wi3KAl1DUi"
      },
      "source": [
        "# Random Forest Models with Different Tree Sizes"
      ]
    },
    {
      "cell_type": "code",
      "metadata": {
        "colab": {
          "base_uri": "https://localhost:8080/"
        },
        "id": "fqjRdwODJxlf",
        "outputId": "614a9d3b-cc66-4b71-fe07-84b2225c24d2"
      },
      "source": [
        "# Train Random Forest Classifier with 20 trees\n",
        "from sklearn.ensemble import RandomForestClassifier\n",
        "\n",
        "model_20t = RandomForestClassifier(n_jobs = -1, max_depth = 20, random_state = 42)\n",
        "\n",
        "model_20t.fit(X_train, y_train)\n",
        "\n",
        "print('Training Balanced Accuracy is:', balanced_accuracy_score(y_train, model_20t.predict(X_train)))\n",
        "print('Validation Balanced Accuracy is:', balanced_accuracy_score(y_val, model_20t.predict(X_val)))"
      ],
      "execution_count": 83,
      "outputs": [
        {
          "output_type": "stream",
          "text": [
            "Training Balanced Accuracy is: 0.8227202049435367\n",
            "Validation Balanced Accuracy is: 0.27739083249357666\n"
          ],
          "name": "stdout"
        },
        {
          "output_type": "stream",
          "text": [
            "/usr/local/lib/python3.7/dist-packages/sklearn/metrics/_classification.py:1859: UserWarning: y_pred contains classes not in y_true\n",
            "  warnings.warn('y_pred contains classes not in y_true')\n"
          ],
          "name": "stderr"
        }
      ]
    },
    {
      "cell_type": "code",
      "metadata": {
        "id": "BXuBYvS3L_aq",
        "colab": {
          "base_uri": "https://localhost:8080/"
        },
        "outputId": "f9701143-4384-47c5-e783-7fd2941e210b"
      },
      "source": [
        "# Train Random Forest Classifier with class weights\n",
        "from sklearn.utils.class_weight import compute_class_weight\n",
        "\n",
        "# Use compute_class_weights() to create numpy array with values for the class weights\n",
        "\n",
        "weights = compute_class_weight(\n",
        "    class_weight = 'balanced',\n",
        "    classes = np.unique(y_train),\n",
        "    y = y_train\n",
        ")\n",
        "\n",
        "# Use zip() to convert numpy array of values for class weights into a dictionary\n",
        "\n",
        "class_weights = dict(zip(np.unique(y_train), weights))\n",
        "\n",
        "model_rfw = RandomForestClassifier(\n",
        "    n_jobs = -1, \n",
        "    max_depth = 15, \n",
        "    class_weight = class_weights,\n",
        "    random_state = 42\n",
        ")\n",
        "\n",
        "model_rfw.fit(X_train, y_train)\n",
        "\n",
        "print('Training Balanced Accuracy is:', balanced_accuracy_score(y_train, model_rfw.predict(X_train)))\n",
        "print('Validation Balanced Accuracy is:', balanced_accuracy_score(y_val, model_rfw.predict(X_val)))"
      ],
      "execution_count": 84,
      "outputs": [
        {
          "output_type": "stream",
          "text": [
            "Training Balanced Accuracy is: 0.862555797802082\n",
            "Validation Balanced Accuracy is: 0.3183607684861218\n"
          ],
          "name": "stdout"
        },
        {
          "output_type": "stream",
          "text": [
            "/usr/local/lib/python3.7/dist-packages/sklearn/metrics/_classification.py:1859: UserWarning: y_pred contains classes not in y_true\n",
            "  warnings.warn('y_pred contains classes not in y_true')\n"
          ],
          "name": "stderr"
        }
      ]
    },
    {
      "cell_type": "markdown",
      "metadata": {
        "id": "Jt7OrlMa1DUn"
      },
      "source": [
        "# Random Forest Models with Scalers"
      ]
    },
    {
      "cell_type": "code",
      "metadata": {
        "colab": {
          "base_uri": "https://localhost:8080/"
        },
        "id": "BbxwQLK-1DUo",
        "outputId": "e4411817-c2c1-493a-a472-be09c82701c5"
      },
      "source": [
        "# Train Random Forest Classifier with 15 trees, MinMaxScaler, & Class Weights\n",
        "from sklearn.preprocessing import MinMaxScaler, RobustScaler, StandardScaler\n",
        "from sklearn.pipeline import make_pipeline\n",
        "\n",
        "pipe_minmax = make_pipeline(\n",
        "    MinMaxScaler(),\n",
        "    RandomForestClassifier(n_jobs = -1, \n",
        "                           max_depth = 15,\n",
        "                           class_weight = class_weights,\n",
        "                           random_state = 42)\n",
        ")\n",
        "\n",
        "pipe_minmax.fit(X_train, y_train)\n",
        "\n",
        "print('Training Balanced Accuracy is:', balanced_accuracy_score(y_train, pipe_minmax.predict(X_train)))\n",
        "print('Validation Balanced Accuracy is:', balanced_accuracy_score(y_val, pipe_minmax.predict(X_val)))"
      ],
      "execution_count": 86,
      "outputs": [
        {
          "output_type": "stream",
          "text": [
            "Training Balanced Accuracy is: 0.8625816677301453\n",
            "Validation Balanced Accuracy is: 0.31844022244294534\n"
          ],
          "name": "stdout"
        },
        {
          "output_type": "stream",
          "text": [
            "/usr/local/lib/python3.7/dist-packages/sklearn/metrics/_classification.py:1859: UserWarning: y_pred contains classes not in y_true\n",
            "  warnings.warn('y_pred contains classes not in y_true')\n"
          ],
          "name": "stderr"
        }
      ]
    },
    {
      "cell_type": "code",
      "metadata": {
        "colab": {
          "base_uri": "https://localhost:8080/"
        },
        "id": "wvn9mknE1DUp",
        "outputId": "e06b80f1-f66b-4ce8-cb77-8a0181742d1e"
      },
      "source": [
        "# Set up Random Forest Classifier with 15 trees, RobustScaler, & Class Weights\n",
        "\n",
        "pipe_robust = make_pipeline(\n",
        "    RobustScaler(),\n",
        "    RandomForestClassifier(n_jobs = -1, \n",
        "                           max_depth = 15,\n",
        "                           class_weight = class_weights,\n",
        "                           random_state = 42)\n",
        ")\n",
        "\n",
        "pipe_robust.fit(X_train, y_train)\n",
        "\n",
        "print('Training Balanced Accuracy is:', balanced_accuracy_score(y_train, pipe_robust.predict(X_train)))\n",
        "print('Validation Balanced Accuracy is:', balanced_accuracy_score(y_val, pipe_robust.predict(X_val)))\n",
        "\n",
        "# RobustScaler < MinMax"
      ],
      "execution_count": 87,
      "outputs": [
        {
          "output_type": "stream",
          "text": [
            "Training Balanced Accuracy is: 0.8627473428227828\n",
            "Validation Balanced Accuracy is: 0.3140504341034744\n"
          ],
          "name": "stdout"
        },
        {
          "output_type": "stream",
          "text": [
            "/usr/local/lib/python3.7/dist-packages/sklearn/metrics/_classification.py:1859: UserWarning: y_pred contains classes not in y_true\n",
            "  warnings.warn('y_pred contains classes not in y_true')\n"
          ],
          "name": "stderr"
        }
      ]
    },
    {
      "cell_type": "code",
      "metadata": {
        "colab": {
          "base_uri": "https://localhost:8080/"
        },
        "id": "zioRblWc1DUp",
        "outputId": "07987e5e-97eb-401d-9ff1-c66da8b43d6a"
      },
      "source": [
        "# Set up Random Forest Classifier with 15 trees, StandardScaler, & Class Weights\n",
        "\n",
        "pipe_standard = make_pipeline(\n",
        "    StandardScaler(),\n",
        "    RandomForestClassifier(n_jobs = -1, \n",
        "                           max_depth = 15,\n",
        "                           class_weight = class_weights,\n",
        "                           random_state = 42)\n",
        ")\n",
        "\n",
        "pipe_standard.fit(X_train, y_train)\n",
        "\n",
        "print('Training Balanced Accuracy is:', balanced_accuracy_score(y_train, pipe_standard.predict(X_train)))\n",
        "print('Validation Balanced Accuracy is:', balanced_accuracy_score(y_val, pipe_standard.predict(X_val)))\n",
        "\n",
        "# Standard Scaler > Robust Scaler"
      ],
      "execution_count": 88,
      "outputs": [
        {
          "output_type": "stream",
          "text": [
            "Training Balanced Accuracy is: 0.8601971336342208\n",
            "Validation Balanced Accuracy is: 0.3180822599690373\n"
          ],
          "name": "stdout"
        },
        {
          "output_type": "stream",
          "text": [
            "/usr/local/lib/python3.7/dist-packages/sklearn/metrics/_classification.py:1859: UserWarning: y_pred contains classes not in y_true\n",
            "  warnings.warn('y_pred contains classes not in y_true')\n"
          ],
          "name": "stderr"
        }
      ]
    },
    {
      "cell_type": "markdown",
      "metadata": {
        "id": "xAy6UJW91DUq"
      },
      "source": [
        "### Conclusion: Scalers Appear to Only Marginally Improve the Balanced Accuracy for the Training and Validation Set when Compared with the Base Random Forest model"
      ]
    },
    {
      "cell_type": "markdown",
      "metadata": {
        "id": "0maqW-_Z1DUq"
      },
      "source": [
        "# Visualization of Initial Random Forest Model"
      ]
    },
    {
      "cell_type": "code",
      "metadata": {
        "colab": {
          "base_uri": "https://localhost:8080/",
          "height": 607
        },
        "id": "nOqGDBJCMXPN",
        "outputId": "128975c0-5d51-4908-e5cf-389f0c335fdc"
      },
      "source": [
        "# Visualize the Top 20 Features of a RF model (15 Trees) & Class Weights\n",
        "\n",
        "importances = pd.Series(model_rfw.feature_importances_, X_train.columns)\n",
        "\n",
        "n =20\n",
        "plt.figure(figsize = (10, n/2))\n",
        "plt.title(f'Top {n} Features for Random Forest Classifier with 15 Trees & Class Weights Using All Features')\n",
        "importances.sort_values()[-n:].plot.barh()\n",
        "plt.show()"
      ],
      "execution_count": 92,
      "outputs": [
        {
          "output_type": "display_data",
          "data": {
            "image/png": "[encoded data removed]",
            "text/plain": [
              "<Figure size 720x720 with 1 Axes>"
            ]
          },
          "metadata": {
            "tags": [],
            "needs_background": "light"
          }
        }
      ]
    },
    {
      "cell_type": "markdown",
      "metadata": {
        "id": "gptXiQ2tWv2C"
      },
      "source": [
        "# Train Initial XGBoost Model"
      ]
    },
    {
      "cell_type": "code",
      "metadata": {
        "colab": {
          "base_uri": "https://localhost:8080/"
        },
        "id": "mioQaFaJ1DUu",
        "outputId": "70a32e9c-4a74-446f-bf84-c9cdf4d9ed32"
      },
      "source": [
        "from xgboost import XGBClassifier\n",
        "xgb_model = XGBClassifier(max_depth = 15,\n",
        "    objective = 'multi:softmax',\n",
        "    num_class = 5,\n",
        "    n_estimators = 100,\n",
        "    learning_rate = 0.5,\n",
        "    scale_pos_weight = class_weights,                       \n",
        "    n_jobs = -1,\n",
        "    random_state = 42)\n",
        "\n",
        "xgb_model.fit(X_train, y_train)"
      ],
      "execution_count": 93,
      "outputs": [
        {
          "output_type": "execute_result",
          "data": {
            "text/plain": [
              "XGBClassifier(base_score=0.5, booster='gbtree', colsample_bylevel=1,\n",
              "              colsample_bynode=1, colsample_bytree=1, gamma=0,\n",
              "              learning_rate=0.5, max_delta_step=0, max_depth=15,\n",
              "              min_child_weight=1, missing=None, n_estimators=100, n_jobs=-1,\n",
              "              nthread=None, num_class=5, objective='multi:softprob',\n",
              "              random_state=42, reg_alpha=0, reg_lambda=1,\n",
              "              scale_pos_weight={'abnormal': 0.6606802591463414,\n",
              "                                'exceptional': 13869.0,\n",
              "                                'extreme': 44.14067472947168,\n",
              "                                'moderate': 3.065649867374005,\n",
              "                                'none': 0.24539084893308327,\n",
              "                                'severe': 16.03723404255319},\n",
              "              seed=None, silent=None, subsample=1, verbosity=1)"
            ]
          },
          "metadata": {
            "tags": []
          },
          "execution_count": 93
        }
      ]
    },
    {
      "cell_type": "code",
      "metadata": {
        "colab": {
          "base_uri": "https://localhost:8080/"
        },
        "id": "UkTR-y-P1DUu",
        "outputId": "811f40e1-3bf1-4a9a-9961-019b668129ab"
      },
      "source": [
        "print('Training Balanced Accuracy for XGBoost Model is:', balanced_accuracy_score(y_train, xgb_model.predict(X_train)))\n",
        "print('Validation Balanced Accuracy for XGBoost Model is:', balanced_accuracy_score(y_val, xgb_model.predict(X_val)))"
      ],
      "execution_count": 94,
      "outputs": [
        {
          "output_type": "stream",
          "text": [
            "Training Balanced Accuracy for XGBoost Model is: 1.0\n",
            "Validation Balanced Accuracy for XGBoost Model is: 0.2814539613009371\n"
          ],
          "name": "stdout"
        },
        {
          "output_type": "stream",
          "text": [
            "/usr/local/lib/python3.7/dist-packages/sklearn/metrics/_classification.py:1859: UserWarning: y_pred contains classes not in y_true\n",
            "  warnings.warn('y_pred contains classes not in y_true')\n"
          ],
          "name": "stderr"
        }
      ]
    },
    {
      "cell_type": "markdown",
      "metadata": {
        "id": "Aus1szof1DU1"
      },
      "source": [
        "# Create Subset of Dataframe to Better Hypertune Parameters"
      ]
    },
    {
      "cell_type": "code",
      "metadata": {
        "colab": {
          "base_uri": "https://localhost:8080/"
        },
        "id": "ap7rrslk1DU1",
        "outputId": "3c35daa5-74ee-490b-f583-f82ea0652f16"
      },
      "source": [
        "# Verify Distribution of values in the target vector\n",
        "y_train.value_counts(normalize = True)"
      ],
      "execution_count": 95,
      "outputs": [
        {
          "output_type": "execute_result",
          "data": {
            "text/plain": [
              "none           0.679189\n",
              "abnormal       0.252265\n",
              "moderate       0.054366\n",
              "severe         0.010392\n",
              "extreme        0.003776\n",
              "exceptional    0.000012\n",
              "Name: score, dtype: float64"
            ]
          },
          "metadata": {
            "tags": []
          },
          "execution_count": 95
        }
      ]
    },
    {
      "cell_type": "code",
      "metadata": {
        "colab": {
          "base_uri": "https://localhost:8080/"
        },
        "id": "MIvgyV2T1DU2",
        "outputId": "3f12ce81-7834-4dfd-d300-a321cf8760d8"
      },
      "source": [
        "# Create a subset of training dataset to \n",
        "train_sm = train_pa_final.sample(n = 100000)\n",
        "train_sm.shape"
      ],
      "execution_count": 96,
      "outputs": [
        {
          "output_type": "execute_result",
          "data": {
            "text/plain": [
              "(100000, 55)"
            ]
          },
          "metadata": {
            "tags": []
          },
          "execution_count": 96
        }
      ]
    },
    {
      "cell_type": "code",
      "metadata": {
        "id": "Ebf3O04F1DU2"
      },
      "source": [
        "X_train_sm = train_sm.drop(target, axis = 1)"
      ],
      "execution_count": 97,
      "outputs": []
    },
    {
      "cell_type": "code",
      "metadata": {
        "id": "6SE1Xsa31DU3"
      },
      "source": [
        "y_train_sm = train_sm[target]"
      ],
      "execution_count": 98,
      "outputs": []
    },
    {
      "cell_type": "code",
      "metadata": {
        "colab": {
          "base_uri": "https://localhost:8080/"
        },
        "id": "KYzLiRTN1DU3",
        "outputId": "7351bd26-8849-4ac1-a931-67e18156a081"
      },
      "source": [
        "drought_cat(y_train_sm)"
      ],
      "execution_count": 99,
      "outputs": [
        {
          "output_type": "stream",
          "text": [
            "/usr/local/lib/python3.7/dist-packages/pandas/core/indexing.py:670: SettingWithCopyWarning: \n",
            "A value is trying to be set on a copy of a slice from a DataFrame\n",
            "\n",
            "See the caveats in the documentation: https://pandas.pydata.org/pandas-docs/stable/user_guide/indexing.html#returning-a-view-versus-a-copy\n",
            "  iloc._setitem_with_indexer(indexer, value)\n"
          ],
          "name": "stderr"
        },
        {
          "output_type": "execute_result",
          "data": {
            "text/plain": [
              "date\n",
              "2003-10-18        none\n",
              "2007-03-11        none\n",
              "2001-09-11    abnormal\n",
              "2001-06-01    moderate\n",
              "2007-02-02        none\n",
              "                ...   \n",
              "2013-06-09        none\n",
              "2013-03-04        none\n",
              "2009-09-03        none\n",
              "2010-05-31        none\n",
              "2004-08-31        none\n",
              "Name: score, Length: 100000, dtype: object"
            ]
          },
          "metadata": {
            "tags": []
          },
          "execution_count": 99
        }
      ]
    },
    {
      "cell_type": "code",
      "metadata": {
        "colab": {
          "base_uri": "https://localhost:8080/"
        },
        "id": "4aUNKzQ71DU3",
        "outputId": "767dd330-3ff5-46ae-8470-51ebd15471c1"
      },
      "source": [
        "# Verify all categories are present in Small Training Set\n",
        "y_train_sm.value_counts(normalize = True)"
      ],
      "execution_count": 100,
      "outputs": [
        {
          "output_type": "execute_result",
          "data": {
            "text/plain": [
              "none           0.67927\n",
              "abnormal       0.25248\n",
              "moderate       0.05456\n",
              "severe         0.01023\n",
              "extreme        0.00344\n",
              "exceptional    0.00002\n",
              "Name: score, dtype: float64"
            ]
          },
          "metadata": {
            "tags": []
          },
          "execution_count": 100
        }
      ]
    },
    {
      "cell_type": "code",
      "metadata": {
        "colab": {
          "base_uri": "https://localhost:8080/"
        },
        "id": "WaCHiMjH1DU4",
        "outputId": "ac14da8e-d49d-4d55-ef15-d4421918e79c"
      },
      "source": [
        "# Train Random Forest Classifier on Smaller Training Set\n",
        "\n",
        "model_rfw_sm = RandomForestClassifier(\n",
        "    n_jobs = -1,\n",
        "    max_depth = 10,\n",
        "    random_state = 42,\n",
        "    n_estimators = 139,\n",
        "    min_samples_split = 10,\n",
        "    class_weight = class_weights,\n",
        "    bootstrap = False)\n",
        "\n",
        "model_rfw_sm.fit(X_train_sm, y_train_sm)\n",
        "\n",
        "print('Training Balanced Accuracy for Small Training Set is:', balanced_accuracy_score(y_train_sm, model_rfw_sm.predict(X_train_sm)))\n",
        "print('Validation Balanced Accuracy is:', balanced_accuracy_score(y_val, model_rfw_sm.predict(X_val)))"
      ],
      "execution_count": 141,
      "outputs": [
        {
          "output_type": "stream",
          "text": [
            "Training Balanced Accuracy for Small Training Set is: 0.7425686671928663\n",
            "Validation Balanced Accuracy is: 0.33597470735146534\n"
          ],
          "name": "stdout"
        },
        {
          "output_type": "stream",
          "text": [
            "/usr/local/lib/python3.7/dist-packages/sklearn/metrics/_classification.py:1859: UserWarning: y_pred contains classes not in y_true\n",
            "  warnings.warn('y_pred contains classes not in y_true')\n"
          ],
          "name": "stderr"
        }
      ]
    },
    {
      "cell_type": "code",
      "metadata": {
        "id": "jy7GwRzc1DU4"
      },
      "source": [
        "# Train XGBoost Classifier on Smaller Training Set\n",
        "\n",
        "model_xgb_sm = XGBClassifier(\n",
        "    max_depth = 5,\n",
        "    objective = 'multi:softmax',\n",
        "    num_class = 5,\n",
        "    n_estimators = 100,\n",
        "     learning_rate = 0.5,\n",
        "    n_jobs = -1,\n",
        "    scale_pos_weight = class_weights,\n",
        "    random_state = 42)\n",
        "\n",
        "model_xgb_sm.fit(X_train_sm, y_train_sm)\n",
        "\n",
        "print('XGB Training Balanced Accuracy for Small Training Set is:', balanced_accuracy_score(y_train_sm, model_xgb_sm.predict(X_train_sm)))\n",
        "print('XGB Validation Balanced Accuracy is:', balanced_accuracy_score(y_val, model_xgb_sm.predict(X_val)))"
      ],
      "execution_count": null,
      "outputs": []
    },
    {
      "cell_type": "markdown",
      "metadata": {
        "id": "pm29Qaqo1DUv"
      },
      "source": [
        "# Apply Hypertuned Parameters from Small Training Dataset to RF Model"
      ]
    },
    {
      "cell_type": "code",
      "metadata": {
        "colab": {
          "base_uri": "https://localhost:8080/"
        },
        "id": "Sks8zKaO1DUv",
        "outputId": "33f2762c-716c-4df6-9d56-5ad5531b36da"
      },
      "source": [
        "model_rfw_tuned = RandomForestClassifier(\n",
        "    n_jobs = -1,\n",
        "    max_depth = 10,\n",
        "    random_state = 42,\n",
        "    n_estimators = 139,\n",
        "    min_samples_split = 10,\n",
        "    class_weight = class_weights,\n",
        "    bootstrap = False)\n",
        "\n",
        "model_rfw_tuned.fit(X_train, y_train)\n",
        "\n",
        "print('Training Balanced Accuracy for Full Training Set is:', balanced_accuracy_score(y_train, model_rfw_tuned.predict(X_train)))\n",
        "print('Validation Balanced Accuracy is:', balanced_accuracy_score(y_val, model_rfw_tuned.predict(X_val)))"
      ],
      "execution_count": 159,
      "outputs": [
        {
          "output_type": "stream",
          "text": [
            "Training Balanced Accuracy for Full Training Set is: 0.6818217169879267\n",
            "Validation Balanced Accuracy is: 0.34595707682538346\n"
          ],
          "name": "stdout"
        },
        {
          "output_type": "stream",
          "text": [
            "/usr/local/lib/python3.7/dist-packages/sklearn/metrics/_classification.py:1859: UserWarning: y_pred contains classes not in y_true\n",
            "  warnings.warn('y_pred contains classes not in y_true')\n"
          ],
          "name": "stderr"
        }
      ]
    },
    {
      "cell_type": "markdown",
      "metadata": {
        "id": "nKFjtLQN1DUx"
      },
      "source": [
        "# Apply Hypertuned Parameters from Small Training Dataset to XGB Model"
      ]
    },
    {
      "cell_type": "code",
      "metadata": {
        "colab": {
          "base_uri": "https://localhost:8080/"
        },
        "id": "jD901lsb1DUx",
        "outputId": "1d6d7557-4f4f-4a3b-aee5-2814cbb957db"
      },
      "source": [
        "xgb_tuned = XGBClassifier(\n",
        "    max_depth = 5,\n",
        "    objective = 'multi:softmax',\n",
        "    num_class = 5,\n",
        "    n_estimators = 100,\n",
        "    learning_rate = 0.5,\n",
        "    scale_pos_weight = class_weights, \n",
        "    n_jobs = -1,\n",
        "    random_state = 42)\n",
        "\n",
        "xgb_tuned.fit(X_train_sm, y_train_sm)\n",
        "\n",
        "print('XGB Training Balanced Accuracy is:', balanced_accuracy_score(y_train, xgb_tuned.predict(X_train)))\n",
        "print('XGB Validation Balanced Accuracy is:', balanced_accuracy_score(y_val, xgb_tuned.predict(X_val)))"
      ],
      "execution_count": 153,
      "outputs": [
        {
          "output_type": "stream",
          "text": [
            "XGB Training Balanced Accuracy is: 0.47472701272498924\n",
            "XGB Validation Balanced Accuracy is: 0.28741263898159053\n"
          ],
          "name": "stdout"
        },
        {
          "output_type": "stream",
          "text": [
            "/usr/local/lib/python3.7/dist-packages/sklearn/metrics/_classification.py:1859: UserWarning: y_pred contains classes not in y_true\n",
            "  warnings.warn('y_pred contains classes not in y_true')\n"
          ],
          "name": "stderr"
        }
      ]
    },
    {
      "cell_type": "markdown",
      "metadata": {
        "id": "BaLUtzvJrvkT"
      },
      "source": [
        "# Conclusion: Random Forest Model Produces Better Results Than XGBoost Model"
      ]
    },
    {
      "cell_type": "markdown",
      "metadata": {
        "id": "zeMZTCTDzj9_"
      },
      "source": [
        "# Test Balance Accuracy under Final Hypertuned Random Forest Model"
      ]
    },
    {
      "cell_type": "code",
      "metadata": {
        "colab": {
          "base_uri": "https://localhost:8080/"
        },
        "id": "SQzsqwlh1DU9",
        "outputId": "950b859a-12f3-4854-b492-9dfe1a9b935a"
      },
      "source": [
        "bal_acc_test_final = balanced_accuracy_score(y_test, model_rfw_tuned.predict(X_test))\n",
        "\n",
        "print(f'Test Balanced Accuracy for Final Model is: {bal_acc_test_final} \\n')"
      ],
      "execution_count": 161,
      "outputs": [
        {
          "output_type": "stream",
          "text": [
            "Test Balanced Accuracy for Final Model is: 0.2985107597791204 \n",
            "\n"
          ],
          "name": "stdout"
        },
        {
          "output_type": "stream",
          "text": [
            "/usr/local/lib/python3.7/dist-packages/sklearn/metrics/_classification.py:1859: UserWarning: y_pred contains classes not in y_true\n",
            "  warnings.warn('y_pred contains classes not in y_true')\n"
          ],
          "name": "stderr"
        }
      ]
    },
    {
      "cell_type": "markdown",
      "metadata": {
        "id": "lEEQh8kr1SN3"
      },
      "source": [
        "# Visualization of the Features of the Final Hypertuned Random Forest Model"
      ]
    },
    {
      "cell_type": "code",
      "metadata": {
        "colab": {
          "base_uri": "https://localhost:8080/",
          "height": 607
        },
        "id": "WUkX5knE1DU-",
        "outputId": "830a87cb-af7c-4712-ab28-0de8b113199d"
      },
      "source": [
        "importances_final = pd.Series(model_rfw_tuned.feature_importances_, X_train.columns)\n",
        "\n",
        "n = 20\n",
        "plt.figure(figsize = (10, n/2))\n",
        "plt.title(f'Top {n} Feature Importances for Final Model')\n",
        "importances_final.sort_values()[-n:].plot.barh()\n",
        "plt.show()"
      ],
      "execution_count": 162,
      "outputs": [
        {
          "output_type": "display_data",
          "data": {
            "image/png": "[encoded data removed]",
            "text/plain": [
              "<Figure size 720x720 with 1 Axes>"
            ]
          },
          "metadata": {
            "tags": [],
            "needs_background": "light"
          }
        }
      ]
    },
    {
      "cell_type": "markdown",
      "metadata": {
        "id": "C6xbaRzk1DVD"
      },
      "source": [
        "# Confusion Matrix, Classification Report"
      ]
    },
    {
      "cell_type": "code",
      "metadata": {
        "colab": {
          "base_uri": "https://localhost:8080/",
          "height": 318
        },
        "id": "0dWDY_-jTB3k",
        "outputId": "dcf7f0e6-af83-4daa-bd24-f0e3542308e2"
      },
      "source": [
        "from sklearn.metrics import plot_confusion_matrix\n",
        "\n",
        "plot_confusion_matrix(model_rfw_tuned, X_test, y_test, values_format = '.0f', \n",
        "                      xticks_rotation = 'vertical', \n",
        "                      labels = ['abnormal', 'moderate', 'none', 'severe'])\n",
        "plt.show()"
      ],
      "execution_count": 163,
      "outputs": [
        {
          "output_type": "display_data",
          "data": {
            "image/png": "[encoded data removed]",
            "text/plain": [
              "<Figure size 432x288 with 2 Axes>"
            ]
          },
          "metadata": {
            "tags": [],
            "needs_background": "light"
          }
        }
      ]
    },
    {
      "cell_type": "code",
      "metadata": {
        "id": "Is1jvWctT0J5"
      },
      "source": [
        "from sklearn.metrics import classification_report\n",
        "y_pred_final = model_rfw_tuned.predict(X_test)"
      ],
      "execution_count": 164,
      "outputs": []
    },
    {
      "cell_type": "code",
      "metadata": {
        "colab": {
          "base_uri": "https://localhost:8080/"
        },
        "id": "-8Uml7DAVB8e",
        "outputId": "4d5edc9d-3f66-461e-954b-387808b3e159"
      },
      "source": [
        "print(classification_report(y_test, y_pred_final))"
      ],
      "execution_count": 165,
      "outputs": [
        {
          "output_type": "stream",
          "text": [
            "/usr/local/lib/python3.7/dist-packages/sklearn/metrics/_classification.py:1272: UndefinedMetricWarning: Recall and F-score are ill-defined and being set to 0.0 in labels with no true samples. Use `zero_division` parameter to control this behavior.\n",
            "  _warn_prf(average, modifier, msg_start, len(result))\n"
          ],
          "name": "stderr"
        },
        {
          "output_type": "stream",
          "text": [
            "              precision    recall  f1-score   support\n",
            "\n",
            "    abnormal       0.16      0.18      0.17      8350\n",
            " exceptional       0.00      0.00      0.00         0\n",
            "     extreme       0.00      0.00      0.00         0\n",
            "    moderate       0.21      0.42      0.28      4292\n",
            "        none       0.86      0.49      0.62     35828\n",
            "      severe       0.01      0.10      0.02       507\n",
            "\n",
            "    accuracy                           0.42     48977\n",
            "   macro avg       0.21      0.20      0.18     48977\n",
            "weighted avg       0.68      0.42      0.51     48977\n",
            "\n"
          ],
          "name": "stdout"
        }
      ]
    }
  ]
}